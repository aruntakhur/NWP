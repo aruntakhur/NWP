{
  "nbformat": 4,
  "nbformat_minor": 0,
  "metadata": {
    "colab": {
      "name": "NWP_2021.ipynb",
      "provenance": [],
      "collapsed_sections": [],
      "authorship_tag": "ABX9TyOrFdCfYGuIAz5DCBEpDlxQ",
      "include_colab_link": true
    },
    "kernelspec": {
      "name": "python3",
      "display_name": "Python 3"
    },
    "language_info": {
      "name": "python"
    }
  },
  "cells": [
    {
      "cell_type": "markdown",
      "metadata": {
        "id": "view-in-github",
        "colab_type": "text"
      },
      "source": [
        "<a href=\"https://colab.research.google.com/github/aruntakhur/NWP/blob/main/NWP_2021.ipynb\" target=\"_parent\"><img src=\"https://colab.research.google.com/assets/colab-badge.svg\" alt=\"Open In Colab\"/></a>"
      ]
    },
    {
      "cell_type": "code",
      "metadata": {
        "colab": {
          "base_uri": "https://localhost:8080/"
        },
        "id": "K09mbYaYPoZS",
        "outputId": "32e49d33-76ef-427f-ebca-5b067cbff401"
      },
      "source": [
        "import numpy as np\n",
        "a = np.arange(15).reshape(3, 5)\n",
        "a"
      ],
      "execution_count": 257,
      "outputs": [
        {
          "output_type": "execute_result",
          "data": {
            "text/plain": [
              "array([[ 0,  1,  2,  3,  4],\n",
              "       [ 5,  6,  7,  8,  9],\n",
              "       [10, 11, 12, 13, 14]])"
            ]
          },
          "metadata": {},
          "execution_count": 257
        }
      ]
    },
    {
      "cell_type": "code",
      "metadata": {
        "colab": {
          "base_uri": "https://localhost:8080/"
        },
        "id": "BDL0BkWGQVGl",
        "outputId": "9622b096-3243-4291-f804-028f5fd7a5c2"
      },
      "source": [
        "a.shape"
      ],
      "execution_count": 258,
      "outputs": [
        {
          "output_type": "execute_result",
          "data": {
            "text/plain": [
              "(3, 5)"
            ]
          },
          "metadata": {},
          "execution_count": 258
        }
      ]
    },
    {
      "cell_type": "code",
      "metadata": {
        "colab": {
          "base_uri": "https://localhost:8080/"
        },
        "id": "a5Cpp_qtQZvb",
        "outputId": "c4ef14dc-c496-405c-a202-7a2563c2a627"
      },
      "source": [
        "a.ndim"
      ],
      "execution_count": 259,
      "outputs": [
        {
          "output_type": "execute_result",
          "data": {
            "text/plain": [
              "2"
            ]
          },
          "metadata": {},
          "execution_count": 259
        }
      ]
    },
    {
      "cell_type": "code",
      "metadata": {
        "colab": {
          "base_uri": "https://localhost:8080/"
        },
        "id": "wa2BQocFQcZ_",
        "outputId": "c291cf6e-6c73-44f2-ea32-738860b53348"
      },
      "source": [
        "a.dtype"
      ],
      "execution_count": 260,
      "outputs": [
        {
          "output_type": "execute_result",
          "data": {
            "text/plain": [
              "dtype('int64')"
            ]
          },
          "metadata": {},
          "execution_count": 260
        }
      ]
    },
    {
      "cell_type": "code",
      "metadata": {
        "colab": {
          "base_uri": "https://localhost:8080/"
        },
        "id": "jidmFTayQoXm",
        "outputId": "9ffa9080-35d8-42ce-f31a-dcdd3cc5402f"
      },
      "source": [
        "type(a)"
      ],
      "execution_count": 261,
      "outputs": [
        {
          "output_type": "execute_result",
          "data": {
            "text/plain": [
              "numpy.ndarray"
            ]
          },
          "metadata": {},
          "execution_count": 261
        }
      ]
    },
    {
      "cell_type": "code",
      "metadata": {
        "id": "xHfXRdbVQ0tQ"
      },
      "source": [
        "b = np.array([1.2, 3.5, 5.1])"
      ],
      "execution_count": 262,
      "outputs": []
    },
    {
      "cell_type": "code",
      "metadata": {
        "colab": {
          "base_uri": "https://localhost:8080/"
        },
        "id": "plazYaWzR0lH",
        "outputId": "cb895960-fe85-4de1-fe83-24cf3e2378dd"
      },
      "source": [
        "b.dtype"
      ],
      "execution_count": 263,
      "outputs": [
        {
          "output_type": "execute_result",
          "data": {
            "text/plain": [
              "dtype('float64')"
            ]
          },
          "metadata": {},
          "execution_count": 263
        }
      ]
    },
    {
      "cell_type": "code",
      "metadata": {
        "id": "Dc0PJbrESOSE"
      },
      "source": [
        "a = np.zeros((3, 4))"
      ],
      "execution_count": 264,
      "outputs": []
    },
    {
      "cell_type": "code",
      "metadata": {
        "colab": {
          "base_uri": "https://localhost:8080/"
        },
        "id": "fqHSStMcSRnm",
        "outputId": "50543021-b2a9-4433-da3f-639cbfd6571c"
      },
      "source": [
        "print(a)"
      ],
      "execution_count": 265,
      "outputs": [
        {
          "output_type": "stream",
          "name": "stdout",
          "text": [
            "[[0. 0. 0. 0.]\n",
            " [0. 0. 0. 0.]\n",
            " [0. 0. 0. 0.]]\n"
          ]
        }
      ]
    },
    {
      "cell_type": "code",
      "metadata": {
        "colab": {
          "base_uri": "https://localhost:8080/"
        },
        "id": "bfpU_K9ISfuc",
        "outputId": "b1b069d1-e8bf-48b1-dd9e-08c6120721f0"
      },
      "source": [
        "np.ones((2, 3, 4))"
      ],
      "execution_count": 266,
      "outputs": [
        {
          "output_type": "execute_result",
          "data": {
            "text/plain": [
              "array([[[1., 1., 1., 1.],\n",
              "        [1., 1., 1., 1.],\n",
              "        [1., 1., 1., 1.]],\n",
              "\n",
              "       [[1., 1., 1., 1.],\n",
              "        [1., 1., 1., 1.],\n",
              "        [1., 1., 1., 1.]]])"
            ]
          },
          "metadata": {},
          "execution_count": 266
        }
      ]
    },
    {
      "cell_type": "code",
      "metadata": {
        "colab": {
          "base_uri": "https://localhost:8080/"
        },
        "id": "_UslLG0Bsxj0",
        "outputId": "0c1d0f76-cd16-4e0c-a972-c939f2533fdf"
      },
      "source": [
        "np.arange(10, 30, 5)"
      ],
      "execution_count": 267,
      "outputs": [
        {
          "output_type": "execute_result",
          "data": {
            "text/plain": [
              "array([10, 15, 20, 25])"
            ]
          },
          "metadata": {},
          "execution_count": 267
        }
      ]
    },
    {
      "cell_type": "code",
      "metadata": {
        "colab": {
          "base_uri": "https://localhost:8080/"
        },
        "id": "O7vgkafNtKOL",
        "outputId": "1bffb13b-dacf-46f0-df89-f8fac9e700e2"
      },
      "source": [
        "np.linspace(0, 2, 9) "
      ],
      "execution_count": 268,
      "outputs": [
        {
          "output_type": "execute_result",
          "data": {
            "text/plain": [
              "array([0.  , 0.25, 0.5 , 0.75, 1.  , 1.25, 1.5 , 1.75, 2.  ])"
            ]
          },
          "metadata": {},
          "execution_count": 268
        }
      ]
    },
    {
      "cell_type": "code",
      "metadata": {
        "id": "fuRFFj2HvLRE"
      },
      "source": [
        "from numpy import pi\n",
        "x = np.linspace(0, 2 * pi, 100) \n",
        "f = np.sin(x)"
      ],
      "execution_count": 269,
      "outputs": []
    },
    {
      "cell_type": "code",
      "metadata": {
        "colab": {
          "base_uri": "https://localhost:8080/"
        },
        "id": "y3A6N5zQvqCF",
        "outputId": "cf205d82-620e-4bc7-c974-77ac7f74615d"
      },
      "source": [
        "a = np.arange(6)\n",
        "a"
      ],
      "execution_count": 270,
      "outputs": [
        {
          "output_type": "execute_result",
          "data": {
            "text/plain": [
              "array([0, 1, 2, 3, 4, 5])"
            ]
          },
          "metadata": {},
          "execution_count": 270
        }
      ]
    },
    {
      "cell_type": "code",
      "metadata": {
        "colab": {
          "base_uri": "https://localhost:8080/"
        },
        "id": "fTzdXQgBv09P",
        "outputId": "7ea82b62-0abc-4657-9c9f-eb0f7b188699"
      },
      "source": [
        "b = np.arange(12).reshape(4, 3)\n",
        "b"
      ],
      "execution_count": 271,
      "outputs": [
        {
          "output_type": "execute_result",
          "data": {
            "text/plain": [
              "array([[ 0,  1,  2],\n",
              "       [ 3,  4,  5],\n",
              "       [ 6,  7,  8],\n",
              "       [ 9, 10, 11]])"
            ]
          },
          "metadata": {},
          "execution_count": 271
        }
      ]
    },
    {
      "cell_type": "code",
      "metadata": {
        "colab": {
          "base_uri": "https://localhost:8080/"
        },
        "id": "XWM-7tHOv8uh",
        "outputId": "f3e324e6-5b77-4bca-88b6-4f2bb4c27130"
      },
      "source": [
        "c = np.arange(24).reshape(2, 3, 4)\n",
        "c"
      ],
      "execution_count": 272,
      "outputs": [
        {
          "output_type": "execute_result",
          "data": {
            "text/plain": [
              "array([[[ 0,  1,  2,  3],\n",
              "        [ 4,  5,  6,  7],\n",
              "        [ 8,  9, 10, 11]],\n",
              "\n",
              "       [[12, 13, 14, 15],\n",
              "        [16, 17, 18, 19],\n",
              "        [20, 21, 22, 23]]])"
            ]
          },
          "metadata": {},
          "execution_count": 272
        }
      ]
    },
    {
      "cell_type": "code",
      "metadata": {
        "colab": {
          "base_uri": "https://localhost:8080/"
        },
        "id": "YvGzE_tiwpMp",
        "outputId": "0fe7e560-c9dc-48ce-9a9f-f273351a01e2"
      },
      "source": [
        "a = np.array([20, 30, 40, 50])\n",
        "b = np.arange(4)\n",
        "c = a-b\n",
        "c"
      ],
      "execution_count": 273,
      "outputs": [
        {
          "output_type": "execute_result",
          "data": {
            "text/plain": [
              "array([20, 29, 38, 47])"
            ]
          },
          "metadata": {},
          "execution_count": 273
        }
      ]
    },
    {
      "cell_type": "code",
      "metadata": {
        "colab": {
          "base_uri": "https://localhost:8080/"
        },
        "id": "KrL6B4o5wLxu",
        "outputId": "4952f48f-f19d-4a91-cc32-0555e5b73db0"
      },
      "source": [
        "a = np.array([20, 30, 40, 50])\n",
        "b = np.array([2])\n",
        "c = a-b\n",
        "c"
      ],
      "execution_count": 274,
      "outputs": [
        {
          "output_type": "execute_result",
          "data": {
            "text/plain": [
              "array([18, 28, 38, 48])"
            ]
          },
          "metadata": {},
          "execution_count": 274
        }
      ]
    },
    {
      "cell_type": "code",
      "metadata": {
        "colab": {
          "base_uri": "https://localhost:8080/"
        },
        "id": "4fsSwn6ZxBD1",
        "outputId": "f8cd3a8c-2921-433b-e899-4cc5db2c7e0e"
      },
      "source": [
        "c*10"
      ],
      "execution_count": 275,
      "outputs": [
        {
          "output_type": "execute_result",
          "data": {
            "text/plain": [
              "array([180, 280, 380, 480])"
            ]
          },
          "metadata": {},
          "execution_count": 275
        }
      ]
    },
    {
      "cell_type": "code",
      "metadata": {
        "colab": {
          "base_uri": "https://localhost:8080/"
        },
        "id": "3FyhpTMZxG1h",
        "outputId": "d48b39c7-6a77-41aa-adf5-f5f52007b532"
      },
      "source": [
        "c**2"
      ],
      "execution_count": 276,
      "outputs": [
        {
          "output_type": "execute_result",
          "data": {
            "text/plain": [
              "array([ 324,  784, 1444, 2304])"
            ]
          },
          "metadata": {},
          "execution_count": 276
        }
      ]
    },
    {
      "cell_type": "code",
      "metadata": {
        "id": "argzQPy-xN3F"
      },
      "source": [
        "A = np.array([[1, 1],\n",
        "...           [0, 1]])\n",
        "B = np.array([[2, 0],\n",
        "...           [3, 4]])"
      ],
      "execution_count": 277,
      "outputs": []
    },
    {
      "cell_type": "code",
      "metadata": {
        "colab": {
          "base_uri": "https://localhost:8080/"
        },
        "id": "f_7ri7O8xU31",
        "outputId": "310aee37-1317-4255-9d12-564f0ccdf549"
      },
      "source": [
        "A * B     # elementwise product"
      ],
      "execution_count": 278,
      "outputs": [
        {
          "output_type": "execute_result",
          "data": {
            "text/plain": [
              "array([[2, 0],\n",
              "       [0, 4]])"
            ]
          },
          "metadata": {},
          "execution_count": 278
        }
      ]
    },
    {
      "cell_type": "code",
      "metadata": {
        "colab": {
          "base_uri": "https://localhost:8080/"
        },
        "id": "AHe8tw1LxZHm",
        "outputId": "e002c9d2-4777-4e50-bfe2-42f85d0ee105"
      },
      "source": [
        "A @ B     # matrix product"
      ],
      "execution_count": 279,
      "outputs": [
        {
          "output_type": "execute_result",
          "data": {
            "text/plain": [
              "array([[5, 4],\n",
              "       [3, 4]])"
            ]
          },
          "metadata": {},
          "execution_count": 279
        }
      ]
    },
    {
      "cell_type": "code",
      "metadata": {
        "colab": {
          "base_uri": "https://localhost:8080/"
        },
        "id": "QsVJcf2cxeK2",
        "outputId": "22ddc1b4-f2f5-4369-b7c3-bba8a501048b"
      },
      "source": [
        "A.dot(B)  # another matrix product"
      ],
      "execution_count": 280,
      "outputs": [
        {
          "output_type": "execute_result",
          "data": {
            "text/plain": [
              "array([[5, 4],\n",
              "       [3, 4]])"
            ]
          },
          "metadata": {},
          "execution_count": 280
        }
      ]
    },
    {
      "cell_type": "code",
      "metadata": {
        "colab": {
          "base_uri": "https://localhost:8080/"
        },
        "id": "QHHCeKlrybcT",
        "outputId": "311a37ae-98d2-4eb2-e450-a9078206bfc9"
      },
      "source": [
        "b = np.arange(12).reshape(3, 4)\n",
        "b"
      ],
      "execution_count": 281,
      "outputs": [
        {
          "output_type": "execute_result",
          "data": {
            "text/plain": [
              "array([[ 0,  1,  2,  3],\n",
              "       [ 4,  5,  6,  7],\n",
              "       [ 8,  9, 10, 11]])"
            ]
          },
          "metadata": {},
          "execution_count": 281
        }
      ]
    },
    {
      "cell_type": "code",
      "metadata": {
        "colab": {
          "base_uri": "https://localhost:8080/"
        },
        "id": "HoJtFjrKyebm",
        "outputId": "70af53f8-fcce-498f-ab04-318fa3a47199"
      },
      "source": [
        "b.sum(axis=0) "
      ],
      "execution_count": 282,
      "outputs": [
        {
          "output_type": "execute_result",
          "data": {
            "text/plain": [
              "array([12, 15, 18, 21])"
            ]
          },
          "metadata": {},
          "execution_count": 282
        }
      ]
    },
    {
      "cell_type": "code",
      "metadata": {
        "colab": {
          "base_uri": "https://localhost:8080/"
        },
        "id": "ZNzCJ1hNyiNk",
        "outputId": "2042c78c-9ed8-4c90-9d42-2209ae3395bc"
      },
      "source": [
        "b.sum(axis=1) "
      ],
      "execution_count": 283,
      "outputs": [
        {
          "output_type": "execute_result",
          "data": {
            "text/plain": [
              "array([ 6, 22, 38])"
            ]
          },
          "metadata": {},
          "execution_count": 283
        }
      ]
    },
    {
      "cell_type": "code",
      "metadata": {
        "colab": {
          "base_uri": "https://localhost:8080/"
        },
        "id": "aTo6rLUYy6Xa",
        "outputId": "d5bd30b1-712e-45b3-e42b-97c99ba9f688"
      },
      "source": [
        "b.min(axis=0) "
      ],
      "execution_count": 284,
      "outputs": [
        {
          "output_type": "execute_result",
          "data": {
            "text/plain": [
              "array([0, 1, 2, 3])"
            ]
          },
          "metadata": {},
          "execution_count": 284
        }
      ]
    },
    {
      "cell_type": "code",
      "metadata": {
        "colab": {
          "base_uri": "https://localhost:8080/"
        },
        "id": "Ij_87b_5zBL7",
        "outputId": "a2fd1d14-1896-4465-9eb4-c90258bd11b5"
      },
      "source": [
        "a = np.arange(10)**3\n",
        "a"
      ],
      "execution_count": 285,
      "outputs": [
        {
          "output_type": "execute_result",
          "data": {
            "text/plain": [
              "array([  0,   1,   8,  27,  64, 125, 216, 343, 512, 729])"
            ]
          },
          "metadata": {},
          "execution_count": 285
        }
      ]
    },
    {
      "cell_type": "code",
      "metadata": {
        "colab": {
          "base_uri": "https://localhost:8080/"
        },
        "id": "-tzBnLyyzcG_",
        "outputId": "a209fcf7-988e-427b-b76b-97a1b73ba30f"
      },
      "source": [
        "a[2:5]"
      ],
      "execution_count": 286,
      "outputs": [
        {
          "output_type": "execute_result",
          "data": {
            "text/plain": [
              "array([ 8, 27, 64])"
            ]
          },
          "metadata": {},
          "execution_count": 286
        }
      ]
    },
    {
      "cell_type": "code",
      "metadata": {
        "colab": {
          "base_uri": "https://localhost:8080/"
        },
        "id": "FfuYcCVBzlpp",
        "outputId": "ae417d66-43c7-4903-9f6a-9a483aeb15db"
      },
      "source": [
        "a[::-1]  # reversed a"
      ],
      "execution_count": 287,
      "outputs": [
        {
          "output_type": "execute_result",
          "data": {
            "text/plain": [
              "array([729, 512, 343, 216, 125,  64,  27,   8,   1,   0])"
            ]
          },
          "metadata": {},
          "execution_count": 287
        }
      ]
    },
    {
      "cell_type": "code",
      "metadata": {
        "id": "SDQe0rF-0HU7"
      },
      "source": [
        "b = np.array([[ 0,  1,  2,  3],\n",
        "       [10, 11, 12, 13],\n",
        "       [20, 21, 22, 23],\n",
        "       [30, 31, 32, 33],\n",
        "       [40, 41, 42, 43]])"
      ],
      "execution_count": 288,
      "outputs": []
    },
    {
      "cell_type": "code",
      "metadata": {
        "colab": {
          "base_uri": "https://localhost:8080/"
        },
        "id": "yP-MyYgx1fw1",
        "outputId": "5fc47d9a-10c3-4658-8a0e-bd15ce5ad323"
      },
      "source": [
        "b[0:5, 1]  # each row in the second column of b"
      ],
      "execution_count": 289,
      "outputs": [
        {
          "output_type": "execute_result",
          "data": {
            "text/plain": [
              "array([ 1, 11, 21, 31, 41])"
            ]
          },
          "metadata": {},
          "execution_count": 289
        }
      ]
    },
    {
      "cell_type": "code",
      "metadata": {
        "colab": {
          "base_uri": "https://localhost:8080/"
        },
        "id": "d7Q3kbfk1l-T",
        "outputId": "c8827dc5-f7d1-4713-f16b-63c114f288ae"
      },
      "source": [
        "b[:, 1]    # equivalent to the previous example"
      ],
      "execution_count": 290,
      "outputs": [
        {
          "output_type": "execute_result",
          "data": {
            "text/plain": [
              "array([ 1, 11, 21, 31, 41])"
            ]
          },
          "metadata": {},
          "execution_count": 290
        }
      ]
    },
    {
      "cell_type": "code",
      "metadata": {
        "id": "dZOnUkci1-wo",
        "colab": {
          "base_uri": "https://localhost:8080/"
        },
        "outputId": "b1f06e54-cb36-40f9-c6ed-1a9fa32474a2"
      },
      "source": [
        "b[:, 1]    # equivalent to the previous example"
      ],
      "execution_count": 291,
      "outputs": [
        {
          "output_type": "execute_result",
          "data": {
            "text/plain": [
              "array([ 1, 11, 21, 31, 41])"
            ]
          },
          "metadata": {},
          "execution_count": 291
        }
      ]
    },
    {
      "cell_type": "code",
      "metadata": {
        "colab": {
          "base_uri": "https://localhost:8080/"
        },
        "id": "bqIx5Mzp2Pqg",
        "outputId": "14ee5d00-e3a2-473d-9116-94a33e1c5d44"
      },
      "source": [
        "b[1:3, :]  # each column in the second and third row of b"
      ],
      "execution_count": 292,
      "outputs": [
        {
          "output_type": "execute_result",
          "data": {
            "text/plain": [
              "array([[10, 11, 12, 13],\n",
              "       [20, 21, 22, 23]])"
            ]
          },
          "metadata": {},
          "execution_count": 292
        }
      ]
    },
    {
      "cell_type": "code",
      "metadata": {
        "colab": {
          "base_uri": "https://localhost:8080/"
        },
        "id": "wsOqkY1H2RwV",
        "outputId": "0ffe2021-4636-4553-a0c8-ea0aca32b4b7"
      },
      "source": [
        "b[-1]   # the last row. Equivalent to b[-1, :]"
      ],
      "execution_count": 293,
      "outputs": [
        {
          "output_type": "execute_result",
          "data": {
            "text/plain": [
              "array([40, 41, 42, 43])"
            ]
          },
          "metadata": {},
          "execution_count": 293
        }
      ]
    },
    {
      "cell_type": "code",
      "metadata": {
        "id": "tzsMX3rp2mec"
      },
      "source": [
        "c = np.array([[[  0,  1,  2],  # a 3D array (two stacked 2D arrays)\n",
        "...                [ 10, 12, 13]],\n",
        "...               [[100, 101, 102],\n",
        "...                [110, 112, 113]]])"
      ],
      "execution_count": 294,
      "outputs": []
    },
    {
      "cell_type": "code",
      "metadata": {
        "id": "BM2375G33BII",
        "colab": {
          "base_uri": "https://localhost:8080/"
        },
        "outputId": "28d82ee0-f610-433d-f476-208ebcd40856"
      },
      "source": [
        "c[1, :, :]"
      ],
      "execution_count": 295,
      "outputs": [
        {
          "output_type": "execute_result",
          "data": {
            "text/plain": [
              "array([[100, 101, 102],\n",
              "       [110, 112, 113]])"
            ]
          },
          "metadata": {},
          "execution_count": 295
        }
      ]
    },
    {
      "cell_type": "code",
      "metadata": {
        "colab": {
          "base_uri": "https://localhost:8080/"
        },
        "id": "xVuw5ZpKNSFV",
        "outputId": "7ed41914-ddbe-4268-ec5a-c3f7dd596d30"
      },
      "source": [
        "for row in b:\n",
        "...     print(row)"
      ],
      "execution_count": 296,
      "outputs": [
        {
          "output_type": "stream",
          "name": "stdout",
          "text": [
            "[0 1 2 3]\n",
            "[10 11 12 13]\n",
            "[20 21 22 23]\n",
            "[30 31 32 33]\n",
            "[40 41 42 43]\n"
          ]
        }
      ]
    },
    {
      "cell_type": "code",
      "metadata": {
        "colab": {
          "base_uri": "https://localhost:8080/"
        },
        "id": "iOmoRMkoNqv_",
        "outputId": "70536ac3-778f-429a-d857-fc996bbfdecc"
      },
      "source": [
        "for element in b.flat:    #each element\n",
        "...     print(element)"
      ],
      "execution_count": 297,
      "outputs": [
        {
          "output_type": "stream",
          "name": "stdout",
          "text": [
            "0\n",
            "1\n",
            "2\n",
            "3\n",
            "10\n",
            "11\n",
            "12\n",
            "13\n",
            "20\n",
            "21\n",
            "22\n",
            "23\n",
            "30\n",
            "31\n",
            "32\n",
            "33\n",
            "40\n",
            "41\n",
            "42\n",
            "43\n"
          ]
        }
      ]
    },
    {
      "cell_type": "code",
      "metadata": {
        "colab": {
          "base_uri": "https://localhost:8080/"
        },
        "id": "zV0gA_uXS4ng",
        "outputId": "051f6cbc-21f6-4ee0-f261-ed2165c0d2b4"
      },
      "source": [
        "b.ravel()"
      ],
      "execution_count": 298,
      "outputs": [
        {
          "output_type": "execute_result",
          "data": {
            "text/plain": [
              "array([ 0,  1,  2,  3, 10, 11, 12, 13, 20, 21, 22, 23, 30, 31, 32, 33, 40,\n",
              "       41, 42, 43])"
            ]
          },
          "metadata": {},
          "execution_count": 298
        }
      ]
    },
    {
      "cell_type": "code",
      "metadata": {
        "colab": {
          "base_uri": "https://localhost:8080/"
        },
        "id": "S0SvPqh8TBLo",
        "outputId": "7235148f-effe-4f62-fabf-8c943fb94d98"
      },
      "source": [
        "b.reshape(2, 10)"
      ],
      "execution_count": 299,
      "outputs": [
        {
          "output_type": "execute_result",
          "data": {
            "text/plain": [
              "array([[ 0,  1,  2,  3, 10, 11, 12, 13, 20, 21],\n",
              "       [22, 23, 30, 31, 32, 33, 40, 41, 42, 43]])"
            ]
          },
          "metadata": {},
          "execution_count": 299
        }
      ]
    },
    {
      "cell_type": "code",
      "metadata": {
        "colab": {
          "base_uri": "https://localhost:8080/"
        },
        "id": "IsumCm79TRId",
        "outputId": "d390ac09-f74b-4083-946b-680d25edc44e"
      },
      "source": [
        "b.T "
      ],
      "execution_count": 300,
      "outputs": [
        {
          "output_type": "execute_result",
          "data": {
            "text/plain": [
              "array([[ 0, 10, 20, 30, 40],\n",
              "       [ 1, 11, 21, 31, 41],\n",
              "       [ 2, 12, 22, 32, 42],\n",
              "       [ 3, 13, 23, 33, 43]])"
            ]
          },
          "metadata": {},
          "execution_count": 300
        }
      ]
    },
    {
      "cell_type": "code",
      "metadata": {
        "id": "EbgWW4G3Tvsu"
      },
      "source": [
        "b.resize((2, 10))"
      ],
      "execution_count": 301,
      "outputs": []
    },
    {
      "cell_type": "code",
      "metadata": {
        "colab": {
          "base_uri": "https://localhost:8080/"
        },
        "id": "EC6ERMxOT1oz",
        "outputId": "67f00845-c8c2-4fef-970f-c8a1e53e8e01"
      },
      "source": [
        "b.shape"
      ],
      "execution_count": 302,
      "outputs": [
        {
          "output_type": "execute_result",
          "data": {
            "text/plain": [
              "(2, 10)"
            ]
          },
          "metadata": {},
          "execution_count": 302
        }
      ]
    },
    {
      "cell_type": "code",
      "metadata": {
        "colab": {
          "base_uri": "https://localhost:8080/"
        },
        "id": "FxoK6fvUT9jF",
        "outputId": "5c480958-878c-47bd-bbcc-98a70d9905a4"
      },
      "source": [
        "b.reshape(5,-1)"
      ],
      "execution_count": 303,
      "outputs": [
        {
          "output_type": "execute_result",
          "data": {
            "text/plain": [
              "array([[ 0,  1,  2,  3],\n",
              "       [10, 11, 12, 13],\n",
              "       [20, 21, 22, 23],\n",
              "       [30, 31, 32, 33],\n",
              "       [40, 41, 42, 43]])"
            ]
          },
          "metadata": {},
          "execution_count": 303
        }
      ]
    },
    {
      "cell_type": "code",
      "metadata": {
        "colab": {
          "base_uri": "https://localhost:8080/"
        },
        "id": "tIks6h66T3xs",
        "outputId": "172f15c1-dd38-4645-a08f-b0fd2742f0d9"
      },
      "source": [
        "a = np.random.rand(3,2)*10 #random samples from a uniform distribution over [0, 1).\n",
        "a"
      ],
      "execution_count": 304,
      "outputs": [
        {
          "output_type": "execute_result",
          "data": {
            "text/plain": [
              "array([[2.21620901, 3.41549393],\n",
              "       [2.80316597, 1.00360548],\n",
              "       [9.42889207, 1.64321699]])"
            ]
          },
          "metadata": {},
          "execution_count": 304
        }
      ]
    },
    {
      "cell_type": "code",
      "metadata": {
        "colab": {
          "base_uri": "https://localhost:8080/"
        },
        "id": "eU6agJaoVkR1",
        "outputId": "7b3f35f7-211b-495e-e93a-35de5bd39d72"
      },
      "source": [
        "b = np.random.rand(3,2)*10 #random samples from a uniform distribution over [0, 1).\n",
        "b"
      ],
      "execution_count": 305,
      "outputs": [
        {
          "output_type": "execute_result",
          "data": {
            "text/plain": [
              "array([[4.46344006, 3.1869447 ],\n",
              "       [2.80667383, 8.02922507],\n",
              "       [8.81150586, 6.07170304]])"
            ]
          },
          "metadata": {},
          "execution_count": 305
        }
      ]
    },
    {
      "cell_type": "code",
      "metadata": {
        "colab": {
          "base_uri": "https://localhost:8080/"
        },
        "id": "BZg-xJnSVp3o",
        "outputId": "741edca8-926f-4782-8220-31152e799313"
      },
      "source": [
        "np.vstack((a, b))"
      ],
      "execution_count": 306,
      "outputs": [
        {
          "output_type": "execute_result",
          "data": {
            "text/plain": [
              "array([[2.21620901, 3.41549393],\n",
              "       [2.80316597, 1.00360548],\n",
              "       [9.42889207, 1.64321699],\n",
              "       [4.46344006, 3.1869447 ],\n",
              "       [2.80667383, 8.02922507],\n",
              "       [8.81150586, 6.07170304]])"
            ]
          },
          "metadata": {},
          "execution_count": 306
        }
      ]
    },
    {
      "cell_type": "code",
      "metadata": {
        "colab": {
          "base_uri": "https://localhost:8080/"
        },
        "id": "w5mCbxTZVxui",
        "outputId": "931e9714-e608-47b7-d72a-8fa6e6139f9e"
      },
      "source": [
        "np.hstack((a, b))"
      ],
      "execution_count": 307,
      "outputs": [
        {
          "output_type": "execute_result",
          "data": {
            "text/plain": [
              "array([[2.21620901, 3.41549393, 4.46344006, 3.1869447 ],\n",
              "       [2.80316597, 1.00360548, 2.80667383, 8.02922507],\n",
              "       [9.42889207, 1.64321699, 8.81150586, 6.07170304]])"
            ]
          },
          "metadata": {},
          "execution_count": 307
        }
      ]
    },
    {
      "cell_type": "code",
      "metadata": {
        "colab": {
          "base_uri": "https://localhost:8080/"
        },
        "id": "igg8t3T4W4gd",
        "outputId": "2cdc0989-a5b8-44b5-cada-f21d4d1119cd"
      },
      "source": [
        "a = np.array([[ 0,  1,  2,  3],\n",
        "...               [ 4,  5,  6,  7],\n",
        "...               [ 8,  9, 10, 11]])\n",
        "b=a                                   # no new object is created\n",
        "b[1,1]=55\n",
        "print(b)\n",
        "print(a)"
      ],
      "execution_count": 308,
      "outputs": [
        {
          "output_type": "stream",
          "name": "stdout",
          "text": [
            "[[ 0  1  2  3]\n",
            " [ 4 55  6  7]\n",
            " [ 8  9 10 11]]\n",
            "[[ 0  1  2  3]\n",
            " [ 4 55  6  7]\n",
            " [ 8  9 10 11]]\n"
          ]
        }
      ]
    },
    {
      "cell_type": "code",
      "metadata": {
        "colab": {
          "base_uri": "https://localhost:8080/"
        },
        "id": "-FFhX2NJXLHC",
        "outputId": "9f133555-1cf7-45e4-8cc6-e80643533c46"
      },
      "source": [
        "a = np.arange(12).reshape(3, 4)\n",
        "print(a)\n",
        "b = a > 4\n",
        "b  # `b` is a boolean with `a`'s shape"
      ],
      "execution_count": 309,
      "outputs": [
        {
          "output_type": "stream",
          "name": "stdout",
          "text": [
            "[[ 0  1  2  3]\n",
            " [ 4  5  6  7]\n",
            " [ 8  9 10 11]]\n"
          ]
        },
        {
          "output_type": "execute_result",
          "data": {
            "text/plain": [
              "array([[False, False, False, False],\n",
              "       [False,  True,  True,  True],\n",
              "       [ True,  True,  True,  True]])"
            ]
          },
          "metadata": {},
          "execution_count": 309
        }
      ]
    },
    {
      "cell_type": "code",
      "metadata": {
        "colab": {
          "base_uri": "https://localhost:8080/"
        },
        "id": "zv64-ZnIZCk8",
        "outputId": "ec7f8a97-92df-4f64-d91c-dbac77e5679c"
      },
      "source": [
        "a[b] = 0  # All elements of `a` higher than 4 become 0\n",
        "a"
      ],
      "execution_count": 310,
      "outputs": [
        {
          "output_type": "execute_result",
          "data": {
            "text/plain": [
              "array([[0, 1, 2, 3],\n",
              "       [4, 0, 0, 0],\n",
              "       [0, 0, 0, 0]])"
            ]
          },
          "metadata": {},
          "execution_count": 310
        }
      ]
    },
    {
      "cell_type": "code",
      "metadata": {
        "id": "uVReexJAdmnd"
      },
      "source": [
        "import pandas as pd"
      ],
      "execution_count": 311,
      "outputs": []
    },
    {
      "cell_type": "code",
      "metadata": {
        "id": "TQl_rSYtdsD8"
      },
      "source": [
        "url = 'https://raw.githubusercontent.com/aruntakhur/NWP/main/music1.csv'\n",
        "df=pd.read_csv(url, sep=',')"
      ],
      "execution_count": 312,
      "outputs": []
    },
    {
      "cell_type": "code",
      "metadata": {
        "colab": {
          "base_uri": "https://localhost:8080/",
          "height": 175
        },
        "id": "9NHPwd6xOzYF",
        "outputId": "664f3fc5-5a43-43e8-c8dd-c483ee872b89"
      },
      "source": [
        "df"
      ],
      "execution_count": 313,
      "outputs": [
        {
          "output_type": "execute_result",
          "data": {
            "text/html": [
              "<div>\n",
              "<style scoped>\n",
              "    .dataframe tbody tr th:only-of-type {\n",
              "        vertical-align: middle;\n",
              "    }\n",
              "\n",
              "    .dataframe tbody tr th {\n",
              "        vertical-align: top;\n",
              "    }\n",
              "\n",
              "    .dataframe thead th {\n",
              "        text-align: right;\n",
              "    }\n",
              "</style>\n",
              "<table border=\"1\" class=\"dataframe\">\n",
              "  <thead>\n",
              "    <tr style=\"text-align: right;\">\n",
              "      <th></th>\n",
              "      <th>Artist</th>\n",
              "      <th>Genre</th>\n",
              "      <th>Listeners</th>\n",
              "      <th>Plays</th>\n",
              "    </tr>\n",
              "  </thead>\n",
              "  <tbody>\n",
              "    <tr>\n",
              "      <th>0</th>\n",
              "      <td>A</td>\n",
              "      <td>Jazz</td>\n",
              "      <td>100</td>\n",
              "      <td>200</td>\n",
              "    </tr>\n",
              "    <tr>\n",
              "      <th>1</th>\n",
              "      <td>B</td>\n",
              "      <td>Rock</td>\n",
              "      <td>20</td>\n",
              "      <td>130</td>\n",
              "    </tr>\n",
              "    <tr>\n",
              "      <th>2</th>\n",
              "      <td>C</td>\n",
              "      <td>Jazz</td>\n",
              "      <td>50</td>\n",
              "      <td>30</td>\n",
              "    </tr>\n",
              "    <tr>\n",
              "      <th>3</th>\n",
              "      <td>D</td>\n",
              "      <td>Pop</td>\n",
              "      <td>15</td>\n",
              "      <td>55</td>\n",
              "    </tr>\n",
              "  </tbody>\n",
              "</table>\n",
              "</div>"
            ],
            "text/plain": [
              "  Artist Genre  Listeners  Plays\n",
              "0      A  Jazz        100    200\n",
              "1      B  Rock         20    130\n",
              "2      C  Jazz         50     30\n",
              "3      D   Pop         15     55"
            ]
          },
          "metadata": {},
          "execution_count": 313
        }
      ]
    },
    {
      "cell_type": "code",
      "metadata": {
        "colab": {
          "base_uri": "https://localhost:8080/"
        },
        "id": "fYbHfa77XPpQ",
        "outputId": "e583781a-47df-44f2-931e-607b1f171678"
      },
      "source": [
        "df['Artist'] #We can select any column using its label:"
      ],
      "execution_count": 314,
      "outputs": [
        {
          "output_type": "execute_result",
          "data": {
            "text/plain": [
              "0    A\n",
              "1    B\n",
              "2    C\n",
              "3    D\n",
              "Name: Artist, dtype: object"
            ]
          },
          "metadata": {},
          "execution_count": 314
        }
      ]
    },
    {
      "cell_type": "code",
      "metadata": {
        "colab": {
          "base_uri": "https://localhost:8080/",
          "height": 112
        },
        "id": "TYZx9GO3YN14",
        "outputId": "2932717e-ed29-4645-8ef9-f1d94032efb6"
      },
      "source": [
        "df[1:3]  #We can select one or multiple rows using their numbers"
      ],
      "execution_count": 315,
      "outputs": [
        {
          "output_type": "execute_result",
          "data": {
            "text/html": [
              "<div>\n",
              "<style scoped>\n",
              "    .dataframe tbody tr th:only-of-type {\n",
              "        vertical-align: middle;\n",
              "    }\n",
              "\n",
              "    .dataframe tbody tr th {\n",
              "        vertical-align: top;\n",
              "    }\n",
              "\n",
              "    .dataframe thead th {\n",
              "        text-align: right;\n",
              "    }\n",
              "</style>\n",
              "<table border=\"1\" class=\"dataframe\">\n",
              "  <thead>\n",
              "    <tr style=\"text-align: right;\">\n",
              "      <th></th>\n",
              "      <th>Artist</th>\n",
              "      <th>Genre</th>\n",
              "      <th>Listeners</th>\n",
              "      <th>Plays</th>\n",
              "    </tr>\n",
              "  </thead>\n",
              "  <tbody>\n",
              "    <tr>\n",
              "      <th>1</th>\n",
              "      <td>B</td>\n",
              "      <td>Rock</td>\n",
              "      <td>20</td>\n",
              "      <td>130</td>\n",
              "    </tr>\n",
              "    <tr>\n",
              "      <th>2</th>\n",
              "      <td>C</td>\n",
              "      <td>Jazz</td>\n",
              "      <td>50</td>\n",
              "      <td>30</td>\n",
              "    </tr>\n",
              "  </tbody>\n",
              "</table>\n",
              "</div>"
            ],
            "text/plain": [
              "  Artist Genre  Listeners  Plays\n",
              "1      B  Rock         20    130\n",
              "2      C  Jazz         50     30"
            ]
          },
          "metadata": {},
          "execution_count": 315
        }
      ]
    },
    {
      "cell_type": "code",
      "metadata": {
        "colab": {
          "base_uri": "https://localhost:8080/",
          "height": 143
        },
        "id": "cS1NRJ--Ylcd",
        "outputId": "382c7e74-008d-40ab-b018-b0c34960af1b"
      },
      "source": [
        "df.loc[1:3,['Artist']]  # We can select any slice of the table using a both column label and row numbers using loc "
      ],
      "execution_count": 316,
      "outputs": [
        {
          "output_type": "execute_result",
          "data": {
            "text/html": [
              "<div>\n",
              "<style scoped>\n",
              "    .dataframe tbody tr th:only-of-type {\n",
              "        vertical-align: middle;\n",
              "    }\n",
              "\n",
              "    .dataframe tbody tr th {\n",
              "        vertical-align: top;\n",
              "    }\n",
              "\n",
              "    .dataframe thead th {\n",
              "        text-align: right;\n",
              "    }\n",
              "</style>\n",
              "<table border=\"1\" class=\"dataframe\">\n",
              "  <thead>\n",
              "    <tr style=\"text-align: right;\">\n",
              "      <th></th>\n",
              "      <th>Artist</th>\n",
              "    </tr>\n",
              "  </thead>\n",
              "  <tbody>\n",
              "    <tr>\n",
              "      <th>1</th>\n",
              "      <td>B</td>\n",
              "    </tr>\n",
              "    <tr>\n",
              "      <th>2</th>\n",
              "      <td>C</td>\n",
              "    </tr>\n",
              "    <tr>\n",
              "      <th>3</th>\n",
              "      <td>D</td>\n",
              "    </tr>\n",
              "  </tbody>\n",
              "</table>\n",
              "</div>"
            ],
            "text/plain": [
              "  Artist\n",
              "1      B\n",
              "2      C\n",
              "3      D"
            ]
          },
          "metadata": {},
          "execution_count": 316
        }
      ]
    },
    {
      "cell_type": "code",
      "metadata": {
        "colab": {
          "base_uri": "https://localhost:8080/",
          "height": 112
        },
        "id": "1t1DrYAbYw7B",
        "outputId": "912e68d4-3c63-4075-ad05-61d7499069d8"
      },
      "source": [
        "df[df['Genre']=='Jazz']"
      ],
      "execution_count": 317,
      "outputs": [
        {
          "output_type": "execute_result",
          "data": {
            "text/html": [
              "<div>\n",
              "<style scoped>\n",
              "    .dataframe tbody tr th:only-of-type {\n",
              "        vertical-align: middle;\n",
              "    }\n",
              "\n",
              "    .dataframe tbody tr th {\n",
              "        vertical-align: top;\n",
              "    }\n",
              "\n",
              "    .dataframe thead th {\n",
              "        text-align: right;\n",
              "    }\n",
              "</style>\n",
              "<table border=\"1\" class=\"dataframe\">\n",
              "  <thead>\n",
              "    <tr style=\"text-align: right;\">\n",
              "      <th></th>\n",
              "      <th>Artist</th>\n",
              "      <th>Genre</th>\n",
              "      <th>Listeners</th>\n",
              "      <th>Plays</th>\n",
              "    </tr>\n",
              "  </thead>\n",
              "  <tbody>\n",
              "    <tr>\n",
              "      <th>0</th>\n",
              "      <td>A</td>\n",
              "      <td>Jazz</td>\n",
              "      <td>100</td>\n",
              "      <td>200</td>\n",
              "    </tr>\n",
              "    <tr>\n",
              "      <th>2</th>\n",
              "      <td>C</td>\n",
              "      <td>Jazz</td>\n",
              "      <td>50</td>\n",
              "      <td>30</td>\n",
              "    </tr>\n",
              "  </tbody>\n",
              "</table>\n",
              "</div>"
            ],
            "text/plain": [
              "  Artist Genre  Listeners  Plays\n",
              "0      A  Jazz        100    200\n",
              "2      C  Jazz         50     30"
            ]
          },
          "metadata": {},
          "execution_count": 317
        }
      ]
    },
    {
      "cell_type": "code",
      "metadata": {
        "colab": {
          "base_uri": "https://localhost:8080/",
          "height": 175
        },
        "id": "5e4SQsC9ZL3L",
        "outputId": "b8e91f88-19ad-41d4-cf30-8bf2fef59df6"
      },
      "source": [
        "df"
      ],
      "execution_count": 318,
      "outputs": [
        {
          "output_type": "execute_result",
          "data": {
            "text/html": [
              "<div>\n",
              "<style scoped>\n",
              "    .dataframe tbody tr th:only-of-type {\n",
              "        vertical-align: middle;\n",
              "    }\n",
              "\n",
              "    .dataframe tbody tr th {\n",
              "        vertical-align: top;\n",
              "    }\n",
              "\n",
              "    .dataframe thead th {\n",
              "        text-align: right;\n",
              "    }\n",
              "</style>\n",
              "<table border=\"1\" class=\"dataframe\">\n",
              "  <thead>\n",
              "    <tr style=\"text-align: right;\">\n",
              "      <th></th>\n",
              "      <th>Artist</th>\n",
              "      <th>Genre</th>\n",
              "      <th>Listeners</th>\n",
              "      <th>Plays</th>\n",
              "    </tr>\n",
              "  </thead>\n",
              "  <tbody>\n",
              "    <tr>\n",
              "      <th>0</th>\n",
              "      <td>A</td>\n",
              "      <td>Jazz</td>\n",
              "      <td>100</td>\n",
              "      <td>200</td>\n",
              "    </tr>\n",
              "    <tr>\n",
              "      <th>1</th>\n",
              "      <td>B</td>\n",
              "      <td>Rock</td>\n",
              "      <td>20</td>\n",
              "      <td>130</td>\n",
              "    </tr>\n",
              "    <tr>\n",
              "      <th>2</th>\n",
              "      <td>C</td>\n",
              "      <td>Jazz</td>\n",
              "      <td>50</td>\n",
              "      <td>30</td>\n",
              "    </tr>\n",
              "    <tr>\n",
              "      <th>3</th>\n",
              "      <td>D</td>\n",
              "      <td>Pop</td>\n",
              "      <td>15</td>\n",
              "      <td>55</td>\n",
              "    </tr>\n",
              "  </tbody>\n",
              "</table>\n",
              "</div>"
            ],
            "text/plain": [
              "  Artist Genre  Listeners  Plays\n",
              "0      A  Jazz        100    200\n",
              "1      B  Rock         20    130\n",
              "2      C  Jazz         50     30\n",
              "3      D   Pop         15     55"
            ]
          },
          "metadata": {},
          "execution_count": 318
        }
      ]
    },
    {
      "cell_type": "code",
      "metadata": {
        "colab": {
          "base_uri": "https://localhost:8080/",
          "height": 112
        },
        "id": "Ow3wnbnTZo6m",
        "outputId": "e0dd9d2f-34a4-4a15-cc22-202e3405c405"
      },
      "source": [
        "df[df['Listeners']>=50]"
      ],
      "execution_count": 319,
      "outputs": [
        {
          "output_type": "execute_result",
          "data": {
            "text/html": [
              "<div>\n",
              "<style scoped>\n",
              "    .dataframe tbody tr th:only-of-type {\n",
              "        vertical-align: middle;\n",
              "    }\n",
              "\n",
              "    .dataframe tbody tr th {\n",
              "        vertical-align: top;\n",
              "    }\n",
              "\n",
              "    .dataframe thead th {\n",
              "        text-align: right;\n",
              "    }\n",
              "</style>\n",
              "<table border=\"1\" class=\"dataframe\">\n",
              "  <thead>\n",
              "    <tr style=\"text-align: right;\">\n",
              "      <th></th>\n",
              "      <th>Artist</th>\n",
              "      <th>Genre</th>\n",
              "      <th>Listeners</th>\n",
              "      <th>Plays</th>\n",
              "    </tr>\n",
              "  </thead>\n",
              "  <tbody>\n",
              "    <tr>\n",
              "      <th>0</th>\n",
              "      <td>A</td>\n",
              "      <td>Jazz</td>\n",
              "      <td>100</td>\n",
              "      <td>200</td>\n",
              "    </tr>\n",
              "    <tr>\n",
              "      <th>2</th>\n",
              "      <td>C</td>\n",
              "      <td>Jazz</td>\n",
              "      <td>50</td>\n",
              "      <td>30</td>\n",
              "    </tr>\n",
              "  </tbody>\n",
              "</table>\n",
              "</div>"
            ],
            "text/plain": [
              "  Artist Genre  Listeners  Plays\n",
              "0      A  Jazz        100    200\n",
              "2      C  Jazz         50     30"
            ]
          },
          "metadata": {},
          "execution_count": 319
        }
      ]
    },
    {
      "cell_type": "code",
      "metadata": {
        "id": "6SoYeQp-Z_NJ"
      },
      "source": [
        "url = 'https://raw.githubusercontent.com/aruntakhur/NWP/main/music.csv'\n",
        "df=pd.read_csv(url, sep=',')"
      ],
      "execution_count": 320,
      "outputs": []
    },
    {
      "cell_type": "code",
      "metadata": {
        "colab": {
          "base_uri": "https://localhost:8080/",
          "height": 175
        },
        "id": "AhpfIhlXa0SN",
        "outputId": "eff25298-12e8-4b59-f5e7-d0e031333a7b"
      },
      "source": [
        "df"
      ],
      "execution_count": 321,
      "outputs": [
        {
          "output_type": "execute_result",
          "data": {
            "text/html": [
              "<div>\n",
              "<style scoped>\n",
              "    .dataframe tbody tr th:only-of-type {\n",
              "        vertical-align: middle;\n",
              "    }\n",
              "\n",
              "    .dataframe tbody tr th {\n",
              "        vertical-align: top;\n",
              "    }\n",
              "\n",
              "    .dataframe thead th {\n",
              "        text-align: right;\n",
              "    }\n",
              "</style>\n",
              "<table border=\"1\" class=\"dataframe\">\n",
              "  <thead>\n",
              "    <tr style=\"text-align: right;\">\n",
              "      <th></th>\n",
              "      <th>Artist</th>\n",
              "      <th>Genre</th>\n",
              "      <th>Listeners</th>\n",
              "      <th>Plays</th>\n",
              "    </tr>\n",
              "  </thead>\n",
              "  <tbody>\n",
              "    <tr>\n",
              "      <th>0</th>\n",
              "      <td>A</td>\n",
              "      <td>Jazz</td>\n",
              "      <td>100</td>\n",
              "      <td>200.0</td>\n",
              "    </tr>\n",
              "    <tr>\n",
              "      <th>1</th>\n",
              "      <td>B</td>\n",
              "      <td>Rock</td>\n",
              "      <td>20</td>\n",
              "      <td>NaN</td>\n",
              "    </tr>\n",
              "    <tr>\n",
              "      <th>2</th>\n",
              "      <td>C</td>\n",
              "      <td>Jazz</td>\n",
              "      <td>50</td>\n",
              "      <td>30.0</td>\n",
              "    </tr>\n",
              "    <tr>\n",
              "      <th>3</th>\n",
              "      <td>D</td>\n",
              "      <td>Pop</td>\n",
              "      <td>15</td>\n",
              "      <td>55.0</td>\n",
              "    </tr>\n",
              "  </tbody>\n",
              "</table>\n",
              "</div>"
            ],
            "text/plain": [
              "  Artist Genre  Listeners  Plays\n",
              "0      A  Jazz        100  200.0\n",
              "1      B  Rock         20    NaN\n",
              "2      C  Jazz         50   30.0\n",
              "3      D   Pop         15   55.0"
            ]
          },
          "metadata": {},
          "execution_count": 321
        }
      ]
    },
    {
      "cell_type": "code",
      "metadata": {
        "colab": {
          "base_uri": "https://localhost:8080/",
          "height": 143
        },
        "id": "5z1c1iRMa4mt",
        "outputId": "1b45eacd-5d86-4fea-e41a-3c3837060506"
      },
      "source": [
        "df.dropna()"
      ],
      "execution_count": 322,
      "outputs": [
        {
          "output_type": "execute_result",
          "data": {
            "text/html": [
              "<div>\n",
              "<style scoped>\n",
              "    .dataframe tbody tr th:only-of-type {\n",
              "        vertical-align: middle;\n",
              "    }\n",
              "\n",
              "    .dataframe tbody tr th {\n",
              "        vertical-align: top;\n",
              "    }\n",
              "\n",
              "    .dataframe thead th {\n",
              "        text-align: right;\n",
              "    }\n",
              "</style>\n",
              "<table border=\"1\" class=\"dataframe\">\n",
              "  <thead>\n",
              "    <tr style=\"text-align: right;\">\n",
              "      <th></th>\n",
              "      <th>Artist</th>\n",
              "      <th>Genre</th>\n",
              "      <th>Listeners</th>\n",
              "      <th>Plays</th>\n",
              "    </tr>\n",
              "  </thead>\n",
              "  <tbody>\n",
              "    <tr>\n",
              "      <th>0</th>\n",
              "      <td>A</td>\n",
              "      <td>Jazz</td>\n",
              "      <td>100</td>\n",
              "      <td>200.0</td>\n",
              "    </tr>\n",
              "    <tr>\n",
              "      <th>2</th>\n",
              "      <td>C</td>\n",
              "      <td>Jazz</td>\n",
              "      <td>50</td>\n",
              "      <td>30.0</td>\n",
              "    </tr>\n",
              "    <tr>\n",
              "      <th>3</th>\n",
              "      <td>D</td>\n",
              "      <td>Pop</td>\n",
              "      <td>15</td>\n",
              "      <td>55.0</td>\n",
              "    </tr>\n",
              "  </tbody>\n",
              "</table>\n",
              "</div>"
            ],
            "text/plain": [
              "  Artist Genre  Listeners  Plays\n",
              "0      A  Jazz        100  200.0\n",
              "2      C  Jazz         50   30.0\n",
              "3      D   Pop         15   55.0"
            ]
          },
          "metadata": {},
          "execution_count": 322
        }
      ]
    },
    {
      "cell_type": "code",
      "metadata": {
        "colab": {
          "base_uri": "https://localhost:8080/",
          "height": 175
        },
        "id": "O5FxketgbFdp",
        "outputId": "86617f4a-2be7-405b-9eac-0f641de1b50f"
      },
      "source": [
        "df.fillna(0)"
      ],
      "execution_count": 323,
      "outputs": [
        {
          "output_type": "execute_result",
          "data": {
            "text/html": [
              "<div>\n",
              "<style scoped>\n",
              "    .dataframe tbody tr th:only-of-type {\n",
              "        vertical-align: middle;\n",
              "    }\n",
              "\n",
              "    .dataframe tbody tr th {\n",
              "        vertical-align: top;\n",
              "    }\n",
              "\n",
              "    .dataframe thead th {\n",
              "        text-align: right;\n",
              "    }\n",
              "</style>\n",
              "<table border=\"1\" class=\"dataframe\">\n",
              "  <thead>\n",
              "    <tr style=\"text-align: right;\">\n",
              "      <th></th>\n",
              "      <th>Artist</th>\n",
              "      <th>Genre</th>\n",
              "      <th>Listeners</th>\n",
              "      <th>Plays</th>\n",
              "    </tr>\n",
              "  </thead>\n",
              "  <tbody>\n",
              "    <tr>\n",
              "      <th>0</th>\n",
              "      <td>A</td>\n",
              "      <td>Jazz</td>\n",
              "      <td>100</td>\n",
              "      <td>200.0</td>\n",
              "    </tr>\n",
              "    <tr>\n",
              "      <th>1</th>\n",
              "      <td>B</td>\n",
              "      <td>Rock</td>\n",
              "      <td>20</td>\n",
              "      <td>0.0</td>\n",
              "    </tr>\n",
              "    <tr>\n",
              "      <th>2</th>\n",
              "      <td>C</td>\n",
              "      <td>Jazz</td>\n",
              "      <td>50</td>\n",
              "      <td>30.0</td>\n",
              "    </tr>\n",
              "    <tr>\n",
              "      <th>3</th>\n",
              "      <td>D</td>\n",
              "      <td>Pop</td>\n",
              "      <td>15</td>\n",
              "      <td>55.0</td>\n",
              "    </tr>\n",
              "  </tbody>\n",
              "</table>\n",
              "</div>"
            ],
            "text/plain": [
              "  Artist Genre  Listeners  Plays\n",
              "0      A  Jazz        100  200.0\n",
              "1      B  Rock         20    0.0\n",
              "2      C  Jazz         50   30.0\n",
              "3      D   Pop         15   55.0"
            ]
          },
          "metadata": {},
          "execution_count": 323
        }
      ]
    },
    {
      "cell_type": "code",
      "metadata": {
        "colab": {
          "base_uri": "https://localhost:8080/",
          "height": 175
        },
        "id": "XK3esZd3bd0U",
        "outputId": "38f6973e-bbd1-4c19-9796-08c190cddf5d"
      },
      "source": [
        "url = 'https://raw.githubusercontent.com/aruntakhur/NWP/main/music1.csv'\n",
        "df=pd.read_csv(url, sep=',')\n",
        "df"
      ],
      "execution_count": 324,
      "outputs": [
        {
          "output_type": "execute_result",
          "data": {
            "text/html": [
              "<div>\n",
              "<style scoped>\n",
              "    .dataframe tbody tr th:only-of-type {\n",
              "        vertical-align: middle;\n",
              "    }\n",
              "\n",
              "    .dataframe tbody tr th {\n",
              "        vertical-align: top;\n",
              "    }\n",
              "\n",
              "    .dataframe thead th {\n",
              "        text-align: right;\n",
              "    }\n",
              "</style>\n",
              "<table border=\"1\" class=\"dataframe\">\n",
              "  <thead>\n",
              "    <tr style=\"text-align: right;\">\n",
              "      <th></th>\n",
              "      <th>Artist</th>\n",
              "      <th>Genre</th>\n",
              "      <th>Listeners</th>\n",
              "      <th>Plays</th>\n",
              "    </tr>\n",
              "  </thead>\n",
              "  <tbody>\n",
              "    <tr>\n",
              "      <th>0</th>\n",
              "      <td>A</td>\n",
              "      <td>Jazz</td>\n",
              "      <td>100</td>\n",
              "      <td>200</td>\n",
              "    </tr>\n",
              "    <tr>\n",
              "      <th>1</th>\n",
              "      <td>B</td>\n",
              "      <td>Rock</td>\n",
              "      <td>20</td>\n",
              "      <td>130</td>\n",
              "    </tr>\n",
              "    <tr>\n",
              "      <th>2</th>\n",
              "      <td>C</td>\n",
              "      <td>Jazz</td>\n",
              "      <td>50</td>\n",
              "      <td>30</td>\n",
              "    </tr>\n",
              "    <tr>\n",
              "      <th>3</th>\n",
              "      <td>D</td>\n",
              "      <td>Pop</td>\n",
              "      <td>15</td>\n",
              "      <td>55</td>\n",
              "    </tr>\n",
              "  </tbody>\n",
              "</table>\n",
              "</div>"
            ],
            "text/plain": [
              "  Artist Genre  Listeners  Plays\n",
              "0      A  Jazz        100    200\n",
              "1      B  Rock         20    130\n",
              "2      C  Jazz         50     30\n",
              "3      D   Pop         15     55"
            ]
          },
          "metadata": {},
          "execution_count": 324
        }
      ]
    },
    {
      "cell_type": "code",
      "metadata": {
        "colab": {
          "base_uri": "https://localhost:8080/",
          "height": 175
        },
        "id": "uowV8WN2boWp",
        "outputId": "2e405e20-6a76-466c-eedb-dab2d6becf99"
      },
      "source": [
        "df.groupby('Genre').sum()"
      ],
      "execution_count": 325,
      "outputs": [
        {
          "output_type": "execute_result",
          "data": {
            "text/html": [
              "<div>\n",
              "<style scoped>\n",
              "    .dataframe tbody tr th:only-of-type {\n",
              "        vertical-align: middle;\n",
              "    }\n",
              "\n",
              "    .dataframe tbody tr th {\n",
              "        vertical-align: top;\n",
              "    }\n",
              "\n",
              "    .dataframe thead th {\n",
              "        text-align: right;\n",
              "    }\n",
              "</style>\n",
              "<table border=\"1\" class=\"dataframe\">\n",
              "  <thead>\n",
              "    <tr style=\"text-align: right;\">\n",
              "      <th></th>\n",
              "      <th>Listeners</th>\n",
              "      <th>Plays</th>\n",
              "    </tr>\n",
              "    <tr>\n",
              "      <th>Genre</th>\n",
              "      <th></th>\n",
              "      <th></th>\n",
              "    </tr>\n",
              "  </thead>\n",
              "  <tbody>\n",
              "    <tr>\n",
              "      <th>Jazz</th>\n",
              "      <td>150</td>\n",
              "      <td>230</td>\n",
              "    </tr>\n",
              "    <tr>\n",
              "      <th>Pop</th>\n",
              "      <td>15</td>\n",
              "      <td>55</td>\n",
              "    </tr>\n",
              "    <tr>\n",
              "      <th>Rock</th>\n",
              "      <td>20</td>\n",
              "      <td>130</td>\n",
              "    </tr>\n",
              "  </tbody>\n",
              "</table>\n",
              "</div>"
            ],
            "text/plain": [
              "       Listeners  Plays\n",
              "Genre                  \n",
              "Jazz         150    230\n",
              "Pop           15     55\n",
              "Rock          20    130"
            ]
          },
          "metadata": {},
          "execution_count": 325
        }
      ]
    },
    {
      "cell_type": "code",
      "metadata": {
        "id": "Vzp64YMhcBim"
      },
      "source": [
        "df['Average']=df['Listeners']/df['Plays']#Creating New Columns from Existing Columns"
      ],
      "execution_count": 326,
      "outputs": []
    },
    {
      "cell_type": "code",
      "metadata": {
        "colab": {
          "base_uri": "https://localhost:8080/",
          "height": 175
        },
        "id": "gLE3FZiicQqr",
        "outputId": "d1b9c537-2d78-486f-9b89-8d456c4cbdd3"
      },
      "source": [
        "df"
      ],
      "execution_count": 327,
      "outputs": [
        {
          "output_type": "execute_result",
          "data": {
            "text/html": [
              "<div>\n",
              "<style scoped>\n",
              "    .dataframe tbody tr th:only-of-type {\n",
              "        vertical-align: middle;\n",
              "    }\n",
              "\n",
              "    .dataframe tbody tr th {\n",
              "        vertical-align: top;\n",
              "    }\n",
              "\n",
              "    .dataframe thead th {\n",
              "        text-align: right;\n",
              "    }\n",
              "</style>\n",
              "<table border=\"1\" class=\"dataframe\">\n",
              "  <thead>\n",
              "    <tr style=\"text-align: right;\">\n",
              "      <th></th>\n",
              "      <th>Artist</th>\n",
              "      <th>Genre</th>\n",
              "      <th>Listeners</th>\n",
              "      <th>Plays</th>\n",
              "      <th>Average</th>\n",
              "    </tr>\n",
              "  </thead>\n",
              "  <tbody>\n",
              "    <tr>\n",
              "      <th>0</th>\n",
              "      <td>A</td>\n",
              "      <td>Jazz</td>\n",
              "      <td>100</td>\n",
              "      <td>200</td>\n",
              "      <td>0.500000</td>\n",
              "    </tr>\n",
              "    <tr>\n",
              "      <th>1</th>\n",
              "      <td>B</td>\n",
              "      <td>Rock</td>\n",
              "      <td>20</td>\n",
              "      <td>130</td>\n",
              "      <td>0.153846</td>\n",
              "    </tr>\n",
              "    <tr>\n",
              "      <th>2</th>\n",
              "      <td>C</td>\n",
              "      <td>Jazz</td>\n",
              "      <td>50</td>\n",
              "      <td>30</td>\n",
              "      <td>1.666667</td>\n",
              "    </tr>\n",
              "    <tr>\n",
              "      <th>3</th>\n",
              "      <td>D</td>\n",
              "      <td>Pop</td>\n",
              "      <td>15</td>\n",
              "      <td>55</td>\n",
              "      <td>0.272727</td>\n",
              "    </tr>\n",
              "  </tbody>\n",
              "</table>\n",
              "</div>"
            ],
            "text/plain": [
              "  Artist Genre  Listeners  Plays   Average\n",
              "0      A  Jazz        100    200  0.500000\n",
              "1      B  Rock         20    130  0.153846\n",
              "2      C  Jazz         50     30  1.666667\n",
              "3      D   Pop         15     55  0.272727"
            ]
          },
          "metadata": {},
          "execution_count": 327
        }
      ]
    },
    {
      "cell_type": "markdown",
      "metadata": {
        "id": "P4itoIKLe6QT"
      },
      "source": [
        "### PyTorch"
      ]
    },
    {
      "cell_type": "markdown",
      "metadata": {
        "id": "_KkkUrqtgCZW"
      },
      "source": [
        "![LinRegression.png](data:image/png;base64,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)"
      ]
    },
    {
      "cell_type": "markdown",
      "metadata": {
        "id": "eIDJG2WdgpD8"
      },
      "source": [
        "yield_apple  = w11 * temp + w12 * rainfall + w13 * humidity + b1\n",
        "\n",
        "yield_orange = w21 * temp + w22 * rainfall + w23 * humidity + b2"
      ]
    },
    {
      "cell_type": "markdown",
      "metadata": {
        "id": "2EeSWTLsgwrb"
      },
      "source": [
        "![LinRegImage.png](data:image/png;base64,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)"
      ]
    },
    {
      "cell_type": "code",
      "metadata": {
        "id": "yRm2nKv7fe5o"
      },
      "source": [
        "import numpy as np\n",
        "import torch"
      ],
      "execution_count": 328,
      "outputs": []
    },
    {
      "cell_type": "code",
      "metadata": {
        "id": "C3Bk1QpEfn-z"
      },
      "source": [
        "# Input (temp, rainfall, humidity)\n",
        "inputs = np.array([[73, 67, 43], \n",
        "                   [91, 88, 64], \n",
        "                   [87, 134, 58], \n",
        "                   [102, 43, 37], \n",
        "                   [69, 96, 70]], dtype='float32')"
      ],
      "execution_count": 329,
      "outputs": []
    },
    {
      "cell_type": "code",
      "metadata": {
        "id": "NWxfgon2fuve"
      },
      "source": [
        "# Targets (apples, oranges)\n",
        "targets = np.array([[56, 70], \n",
        "                    [81, 101], \n",
        "                    [119, 133], \n",
        "                    [22, 37], \n",
        "                    [103, 119]], dtype='float32')"
      ],
      "execution_count": 330,
      "outputs": []
    },
    {
      "cell_type": "code",
      "metadata": {
        "id": "Y7UD67-9ize1",
        "colab": {
          "base_uri": "https://localhost:8080/"
        },
        "outputId": "bf268ea8-4991-4709-b02e-3ee94ad982ba"
      },
      "source": [
        "# Convert inputs and targets to tensors\n",
        "inputs = torch.from_numpy(inputs)\n",
        "targets = torch.from_numpy(targets)\n",
        "print(inputs)\n",
        "print(targets)"
      ],
      "execution_count": 331,
      "outputs": [
        {
          "output_type": "stream",
          "name": "stdout",
          "text": [
            "tensor([[ 73.,  67.,  43.],\n",
            "        [ 91.,  88.,  64.],\n",
            "        [ 87., 134.,  58.],\n",
            "        [102.,  43.,  37.],\n",
            "        [ 69.,  96.,  70.]])\n",
            "tensor([[ 56.,  70.],\n",
            "        [ 81., 101.],\n",
            "        [119., 133.],\n",
            "        [ 22.,  37.],\n",
            "        [103., 119.]])\n"
          ]
        }
      ]
    },
    {
      "cell_type": "code",
      "metadata": {
        "id": "vMkS0Rp5jSPI",
        "colab": {
          "base_uri": "https://localhost:8080/"
        },
        "outputId": "94ef8e78-950f-47a2-9843-8e5f440467f2"
      },
      "source": [
        "# Weights and biases\n",
        "w = torch.randn(2, 3, requires_grad=True)\n",
        "b = torch.randn(2, requires_grad=True)\n",
        "print(w)\n",
        "print(b)"
      ],
      "execution_count": 332,
      "outputs": [
        {
          "output_type": "stream",
          "name": "stdout",
          "text": [
            "tensor([[ 0.4176, -1.5411, -0.3707],\n",
            "        [-0.0235,  0.6980, -0.6324]], requires_grad=True)\n",
            "tensor([1.2863, 0.8214], requires_grad=True)\n"
          ]
        }
      ]
    },
    {
      "cell_type": "markdown",
      "metadata": {
        "id": "dyU5wKxbjrms"
      },
      "source": [
        "![equation.png](data:image/png;base64,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)"
      ]
    },
    {
      "cell_type": "code",
      "metadata": {
        "id": "QwWhD1cZjvD4"
      },
      "source": [
        "def model(x):\n",
        "    return x @ w.t() + b"
      ],
      "execution_count": 333,
      "outputs": []
    },
    {
      "cell_type": "code",
      "metadata": {
        "id": "yHYCLA01j-r1",
        "colab": {
          "base_uri": "https://localhost:8080/"
        },
        "outputId": "e5b0449d-9f37-4c70-8ca2-16e48bdcc9dd"
      },
      "source": [
        "# Generate predictions\n",
        "preds = model(inputs)\n",
        "print(preds)"
      ],
      "execution_count": 334,
      "outputs": [
        {
          "output_type": "stream",
          "name": "stdout",
          "text": [
            "tensor([[ -87.4201,   18.6747],\n",
            "        [-120.0502,   19.6282],\n",
            "        [-190.3861,   55.6228],\n",
            "        [ -36.0993,    5.0361],\n",
            "        [-143.7905,   21.9349]], grad_fn=<AddBackward0>)\n"
          ]
        }
      ]
    },
    {
      "cell_type": "code",
      "metadata": {
        "id": "NC7KWUvtkJkp",
        "colab": {
          "base_uri": "https://localhost:8080/"
        },
        "outputId": "ce750653-ff10-4839-bddb-fe2dda02b362"
      },
      "source": [
        "# Compare with targets\n",
        "print(targets)"
      ],
      "execution_count": 335,
      "outputs": [
        {
          "output_type": "stream",
          "name": "stdout",
          "text": [
            "tensor([[ 56.,  70.],\n",
            "        [ 81., 101.],\n",
            "        [119., 133.],\n",
            "        [ 22.,  37.],\n",
            "        [103., 119.]])\n"
          ]
        }
      ]
    },
    {
      "cell_type": "code",
      "metadata": {
        "id": "oEc67b8ZkTxU"
      },
      "source": [
        "# MSE loss\n",
        "def mse(t1, t2):\n",
        "    diff = t1 - t2\n",
        "    return torch.sum(diff * diff) / diff.numel()"
      ],
      "execution_count": 336,
      "outputs": []
    },
    {
      "cell_type": "code",
      "metadata": {
        "id": "CJx15MMhkW9y",
        "colab": {
          "base_uri": "https://localhost:8080/"
        },
        "outputId": "4e13afdb-a9d8-4b20-8ee4-ddafabc44ce6"
      },
      "source": [
        "# Compute loss\n",
        "loss = mse(preds, targets)\n",
        "print(loss)"
      ],
      "execution_count": 337,
      "outputs": [
        {
          "output_type": "stream",
          "name": "stdout",
          "text": [
            "tensor(24667.7539, grad_fn=<DivBackward0>)\n"
          ]
        }
      ]
    },
    {
      "cell_type": "code",
      "metadata": {
        "id": "oF-7W_swkmOs"
      },
      "source": [
        "# Compute gradients\n",
        "loss.backward()"
      ],
      "execution_count": 338,
      "outputs": []
    },
    {
      "cell_type": "code",
      "metadata": {
        "id": "yYHQBc8AkoN7",
        "colab": {
          "base_uri": "https://localhost:8080/"
        },
        "outputId": "51ffb011-5c55-4b18-d8cb-8360c148cf27"
      },
      "source": [
        "# Gradients for weights\n",
        "print(w)\n",
        "print(w.grad)"
      ],
      "execution_count": 339,
      "outputs": [
        {
          "output_type": "stream",
          "name": "stdout",
          "text": [
            "tensor([[ 0.4176, -1.5411, -0.3707],\n",
            "        [-0.0235,  0.6980, -0.6324]], requires_grad=True)\n",
            "tensor([[-15727.2988, -18989.8926, -11280.7354],\n",
            "        [ -5568.2397,  -6332.1504,  -3975.9756]])\n"
          ]
        }
      ]
    },
    {
      "cell_type": "code",
      "metadata": {
        "id": "mFfBx-eVlHD1",
        "colab": {
          "base_uri": "https://localhost:8080/"
        },
        "outputId": "b102810d-c527-4618-fd79-e06ac4846efe"
      },
      "source": [
        "# Train for 100 epochs\n",
        "for i in range(100):\n",
        "    preds = model(inputs)\n",
        "    loss = mse(preds, targets)\n",
        "    loss.backward()\n",
        "    with torch.no_grad():\n",
        "        w -= w.grad * 1e-5\n",
        "        b -= b.grad * 1e-5\n",
        "        w.grad.zero_()\n",
        "        b.grad.zero_()\n",
        "        print(loss)"
      ],
      "execution_count": 340,
      "outputs": [
        {
          "output_type": "stream",
          "name": "stdout",
          "text": [
            "tensor(24667.7539, grad_fn=<DivBackward0>)\n",
            "tensor(11161.8789, grad_fn=<DivBackward0>)\n",
            "tensor(8065.6797, grad_fn=<DivBackward0>)\n",
            "tensor(5972.6729, grad_fn=<DivBackward0>)\n",
            "tensor(4555.7827, grad_fn=<DivBackward0>)\n",
            "tensor(3594.6001, grad_fn=<DivBackward0>)\n",
            "tensor(2940.5906, grad_fn=<DivBackward0>)\n",
            "tensor(2493.6602, grad_fn=<DivBackward0>)\n",
            "tensor(2186.3552, grad_fn=<DivBackward0>)\n",
            "tensor(1973.2184, grad_fn=<DivBackward0>)\n",
            "tensor(1823.6155, grad_fn=<DivBackward0>)\n",
            "tensor(1716.9023, grad_fn=<DivBackward0>)\n",
            "tensor(1639.1656, grad_fn=<DivBackward0>)\n",
            "tensor(1581.0289, grad_fn=<DivBackward0>)\n",
            "tensor(1536.1721, grad_fn=<DivBackward0>)\n",
            "tensor(1500.3357, grad_fn=<DivBackward0>)\n",
            "tensor(1470.6482, grad_fn=<DivBackward0>)\n",
            "tensor(1445.1731, grad_fn=<DivBackward0>)\n",
            "tensor(1422.6057, grad_fn=<DivBackward0>)\n",
            "tensor(1402.0656, grad_fn=<DivBackward0>)\n",
            "tensor(1382.9578, grad_fn=<DivBackward0>)\n",
            "tensor(1364.8811, grad_fn=<DivBackward0>)\n",
            "tensor(1347.5648, grad_fn=<DivBackward0>)\n",
            "tensor(1330.8247, grad_fn=<DivBackward0>)\n",
            "tensor(1314.5364, grad_fn=<DivBackward0>)\n",
            "tensor(1298.6154, grad_fn=<DivBackward0>)\n",
            "tensor(1283.0035, grad_fn=<DivBackward0>)\n",
            "tensor(1267.6606, grad_fn=<DivBackward0>)\n",
            "tensor(1252.5604, grad_fn=<DivBackward0>)\n",
            "tensor(1237.6820, grad_fn=<DivBackward0>)\n",
            "tensor(1223.0126, grad_fn=<DivBackward0>)\n",
            "tensor(1208.5417, grad_fn=<DivBackward0>)\n",
            "tensor(1194.2622, grad_fn=<DivBackward0>)\n",
            "tensor(1180.1680, grad_fn=<DivBackward0>)\n",
            "tensor(1166.2545, grad_fn=<DivBackward0>)\n",
            "tensor(1152.5179, grad_fn=<DivBackward0>)\n",
            "tensor(1138.9553, grad_fn=<DivBackward0>)\n",
            "tensor(1125.5634, grad_fn=<DivBackward0>)\n",
            "tensor(1112.3400, grad_fn=<DivBackward0>)\n",
            "tensor(1099.2820, grad_fn=<DivBackward0>)\n",
            "tensor(1086.3877, grad_fn=<DivBackward0>)\n",
            "tensor(1073.6547, grad_fn=<DivBackward0>)\n",
            "tensor(1061.0806, grad_fn=<DivBackward0>)\n",
            "tensor(1048.6641, grad_fn=<DivBackward0>)\n",
            "tensor(1036.4023, grad_fn=<DivBackward0>)\n",
            "tensor(1024.2936, grad_fn=<DivBackward0>)\n",
            "tensor(1012.3361, grad_fn=<DivBackward0>)\n",
            "tensor(1000.5280, grad_fn=<DivBackward0>)\n",
            "tensor(988.8668, grad_fn=<DivBackward0>)\n",
            "tensor(977.3514, grad_fn=<DivBackward0>)\n",
            "tensor(965.9793, grad_fn=<DivBackward0>)\n",
            "tensor(954.7492, grad_fn=<DivBackward0>)\n",
            "tensor(943.6593, grad_fn=<DivBackward0>)\n",
            "tensor(932.7073, grad_fn=<DivBackward0>)\n",
            "tensor(921.8923, grad_fn=<DivBackward0>)\n",
            "tensor(911.2118, grad_fn=<DivBackward0>)\n",
            "tensor(900.6642, grad_fn=<DivBackward0>)\n",
            "tensor(890.2484, grad_fn=<DivBackward0>)\n",
            "tensor(879.9619, grad_fn=<DivBackward0>)\n",
            "tensor(869.8038, grad_fn=<DivBackward0>)\n",
            "tensor(859.7721, grad_fn=<DivBackward0>)\n",
            "tensor(849.8654, grad_fn=<DivBackward0>)\n",
            "tensor(840.0820, grad_fn=<DivBackward0>)\n",
            "tensor(830.4205, grad_fn=<DivBackward0>)\n",
            "tensor(820.8791, grad_fn=<DivBackward0>)\n",
            "tensor(811.4564, grad_fn=<DivBackward0>)\n",
            "tensor(802.1509, grad_fn=<DivBackward0>)\n",
            "tensor(792.9613, grad_fn=<DivBackward0>)\n",
            "tensor(783.8861, grad_fn=<DivBackward0>)\n",
            "tensor(774.9235, grad_fn=<DivBackward0>)\n",
            "tensor(766.0726, grad_fn=<DivBackward0>)\n",
            "tensor(757.3317, grad_fn=<DivBackward0>)\n",
            "tensor(748.6993, grad_fn=<DivBackward0>)\n",
            "tensor(740.1744, grad_fn=<DivBackward0>)\n",
            "tensor(731.7551, grad_fn=<DivBackward0>)\n",
            "tensor(723.4406, grad_fn=<DivBackward0>)\n",
            "tensor(715.2294, grad_fn=<DivBackward0>)\n",
            "tensor(707.1200, grad_fn=<DivBackward0>)\n",
            "tensor(699.1116, grad_fn=<DivBackward0>)\n",
            "tensor(691.2025, grad_fn=<DivBackward0>)\n",
            "tensor(683.3914, grad_fn=<DivBackward0>)\n",
            "tensor(675.6774, grad_fn=<DivBackward0>)\n",
            "tensor(668.0591, grad_fn=<DivBackward0>)\n",
            "tensor(660.5353, grad_fn=<DivBackward0>)\n",
            "tensor(653.1049, grad_fn=<DivBackward0>)\n",
            "tensor(645.7664, grad_fn=<DivBackward0>)\n",
            "tensor(638.5191, grad_fn=<DivBackward0>)\n",
            "tensor(631.3613, grad_fn=<DivBackward0>)\n",
            "tensor(624.2925, grad_fn=<DivBackward0>)\n",
            "tensor(617.3114, grad_fn=<DivBackward0>)\n",
            "tensor(610.4166, grad_fn=<DivBackward0>)\n",
            "tensor(603.6071, grad_fn=<DivBackward0>)\n",
            "tensor(596.8821, grad_fn=<DivBackward0>)\n",
            "tensor(590.2404, grad_fn=<DivBackward0>)\n",
            "tensor(583.6808, grad_fn=<DivBackward0>)\n",
            "tensor(577.2023, grad_fn=<DivBackward0>)\n",
            "tensor(570.8041, grad_fn=<DivBackward0>)\n",
            "tensor(564.4850, grad_fn=<DivBackward0>)\n",
            "tensor(558.2442, grad_fn=<DivBackward0>)\n",
            "tensor(552.0802, grad_fn=<DivBackward0>)\n"
          ]
        }
      ]
    },
    {
      "cell_type": "code",
      "metadata": {
        "id": "ysCTR8Nzl7xy",
        "colab": {
          "base_uri": "https://localhost:8080/"
        },
        "outputId": "21ec6230-5347-4c54-ed57-7aba25f2369f"
      },
      "source": [
        "print(targets)\n",
        "print(preds)"
      ],
      "execution_count": 341,
      "outputs": [
        {
          "output_type": "stream",
          "name": "stdout",
          "text": [
            "tensor([[ 56.,  70.],\n",
            "        [ 81., 101.],\n",
            "        [119., 133.],\n",
            "        [ 22.,  37.],\n",
            "        [103., 119.]])\n",
            "tensor([[ 67.0407,  73.1549],\n",
            "        [ 87.6515,  93.0126],\n",
            "        [ 90.4379, 145.8017],\n",
            "        [ 77.1002,  51.7890],\n",
            "        [ 78.9566,  97.3574]], grad_fn=<AddBackward0>)\n"
          ]
        }
      ]
    },
    {
      "cell_type": "markdown",
      "metadata": {
        "id": "aGMQ1E9Vmbl2"
      },
      "source": [
        "### nn.Linear\n",
        "Instead of initializing the weights & biases manually, we can define the model using the nn.Linear class from PyTorch, which does it automatically"
      ]
    },
    {
      "cell_type": "code",
      "metadata": {
        "id": "A4NmRNnpoVrV"
      },
      "source": [
        "import torch.nn as nn"
      ],
      "execution_count": 342,
      "outputs": []
    },
    {
      "cell_type": "code",
      "metadata": {
        "id": "wOzgo-p5ofP9"
      },
      "source": [
        "# Input (temp, rainfall, humidity)\n",
        "inputs = np.array([[73, 67, 43], \n",
        "                   [91, 88, 64], \n",
        "                   [87, 134, 58], \n",
        "                   [102, 43, 37], \n",
        "                   [69, 96, 70], \n",
        "                   [74, 66, 43], \n",
        "                   [91, 87, 65], \n",
        "                   [88, 134, 59], \n",
        "                   [101, 44, 37], \n",
        "                   [68, 96, 71], \n",
        "                   [73, 66, 44], \n",
        "                   [92, 87, 64], \n",
        "                   [87, 135, 57], \n",
        "                   [103, 43, 36], \n",
        "                   [68, 97, 70]], \n",
        "                  dtype='float32')\n",
        "\n",
        "# Targets (apples, oranges)\n",
        "targets = np.array([[56, 70], \n",
        "                    [81, 101], \n",
        "                    [119, 133], \n",
        "                    [22, 37], \n",
        "                    [103, 119],\n",
        "                    [57, 69], \n",
        "                    [80, 102], \n",
        "                    [118, 132], \n",
        "                    [21, 38], \n",
        "                    [104, 118], \n",
        "                    [57, 69], \n",
        "                    [82, 100], \n",
        "                    [118, 134], \n",
        "                    [20, 38], \n",
        "                    [102, 120]], \n",
        "                   dtype='float32')\n",
        "\n",
        "inputs = torch.from_numpy(inputs)\n",
        "targets = torch.from_numpy(targets)"
      ],
      "execution_count": 343,
      "outputs": []
    },
    {
      "cell_type": "code",
      "metadata": {
        "id": "jBOQS-clontn",
        "colab": {
          "base_uri": "https://localhost:8080/"
        },
        "outputId": "f34afdee-8f8d-4003-9c7d-9ea7d1927bc7"
      },
      "source": [
        "inputs"
      ],
      "execution_count": 344,
      "outputs": [
        {
          "output_type": "execute_result",
          "data": {
            "text/plain": [
              "tensor([[ 73.,  67.,  43.],\n",
              "        [ 91.,  88.,  64.],\n",
              "        [ 87., 134.,  58.],\n",
              "        [102.,  43.,  37.],\n",
              "        [ 69.,  96.,  70.],\n",
              "        [ 74.,  66.,  43.],\n",
              "        [ 91.,  87.,  65.],\n",
              "        [ 88., 134.,  59.],\n",
              "        [101.,  44.,  37.],\n",
              "        [ 68.,  96.,  71.],\n",
              "        [ 73.,  66.,  44.],\n",
              "        [ 92.,  87.,  64.],\n",
              "        [ 87., 135.,  57.],\n",
              "        [103.,  43.,  36.],\n",
              "        [ 68.,  97.,  70.]])"
            ]
          },
          "metadata": {},
          "execution_count": 344
        }
      ]
    },
    {
      "cell_type": "code",
      "metadata": {
        "id": "pS5cY1DWo1gC",
        "colab": {
          "base_uri": "https://localhost:8080/"
        },
        "outputId": "5974c89c-7c21-4147-c309-07c9036b4917"
      },
      "source": [
        "# Define dataset\n",
        "from torch.utils.data import TensorDataset\n",
        "train_ds = TensorDataset(inputs, targets)\n",
        "train_ds[0:3]"
      ],
      "execution_count": 345,
      "outputs": [
        {
          "output_type": "execute_result",
          "data": {
            "text/plain": [
              "(tensor([[ 73.,  67.,  43.],\n",
              "         [ 91.,  88.,  64.],\n",
              "         [ 87., 134.,  58.]]), tensor([[ 56.,  70.],\n",
              "         [ 81., 101.],\n",
              "         [119., 133.]]))"
            ]
          },
          "metadata": {},
          "execution_count": 345
        }
      ]
    },
    {
      "cell_type": "code",
      "metadata": {
        "id": "z2ooHJUjp4Zr"
      },
      "source": [
        "from torch.utils.data import DataLoader\n",
        "# Define data loader\n",
        "batch_size = 5\n",
        "train_dl = DataLoader(train_ds, batch_size, shuffle=True)"
      ],
      "execution_count": 346,
      "outputs": []
    },
    {
      "cell_type": "code",
      "metadata": {
        "id": "YmKsO3BTp8ki",
        "colab": {
          "base_uri": "https://localhost:8080/"
        },
        "outputId": "d765c6f6-4cb9-4cb6-cc0b-9e8edff3828b"
      },
      "source": [
        "for xb, yb in train_dl:\n",
        "    print(xb)\n",
        "    print(yb)"
      ],
      "execution_count": 347,
      "outputs": [
        {
          "output_type": "stream",
          "name": "stdout",
          "text": [
            "tensor([[ 92.,  87.,  64.],\n",
            "        [ 87., 135.,  57.],\n",
            "        [ 91.,  88.,  64.],\n",
            "        [ 68.,  96.,  71.],\n",
            "        [ 68.,  97.,  70.]])\n",
            "tensor([[ 82., 100.],\n",
            "        [118., 134.],\n",
            "        [ 81., 101.],\n",
            "        [104., 118.],\n",
            "        [102., 120.]])\n",
            "tensor([[101.,  44.,  37.],\n",
            "        [ 73.,  66.,  44.],\n",
            "        [103.,  43.,  36.],\n",
            "        [ 69.,  96.,  70.],\n",
            "        [ 88., 134.,  59.]])\n",
            "tensor([[ 21.,  38.],\n",
            "        [ 57.,  69.],\n",
            "        [ 20.,  38.],\n",
            "        [103., 119.],\n",
            "        [118., 132.]])\n",
            "tensor([[ 91.,  87.,  65.],\n",
            "        [102.,  43.,  37.],\n",
            "        [ 87., 134.,  58.],\n",
            "        [ 74.,  66.,  43.],\n",
            "        [ 73.,  67.,  43.]])\n",
            "tensor([[ 80., 102.],\n",
            "        [ 22.,  37.],\n",
            "        [119., 133.],\n",
            "        [ 57.,  69.],\n",
            "        [ 56.,  70.]])\n"
          ]
        }
      ]
    },
    {
      "cell_type": "code",
      "metadata": {
        "id": "2KdufJYVmN9v",
        "colab": {
          "base_uri": "https://localhost:8080/"
        },
        "outputId": "c5d2a653-6e61-4d5f-d6e6-562445c79225"
      },
      "source": [
        "# Define model\n",
        "model = nn.Linear(3, 2)\n",
        "print(model.weight)\n",
        "print(model.bias)"
      ],
      "execution_count": 348,
      "outputs": [
        {
          "output_type": "stream",
          "name": "stdout",
          "text": [
            "Parameter containing:\n",
            "tensor([[ 0.0471, -0.5050, -0.1634],\n",
            "        [ 0.0899, -0.1271,  0.4559]], requires_grad=True)\n",
            "Parameter containing:\n",
            "tensor([-0.1919,  0.1902], requires_grad=True)\n"
          ]
        }
      ]
    },
    {
      "cell_type": "code",
      "metadata": {
        "id": "BWz2p9Nxmz-1",
        "colab": {
          "base_uri": "https://localhost:8080/"
        },
        "outputId": "012da361-5f22-4830-811b-86078232cdff"
      },
      "source": [
        "# Parameters\n",
        "list(model.parameters())"
      ],
      "execution_count": 349,
      "outputs": [
        {
          "output_type": "execute_result",
          "data": {
            "text/plain": [
              "[Parameter containing:\n",
              " tensor([[ 0.0471, -0.5050, -0.1634],\n",
              "         [ 0.0899, -0.1271,  0.4559]], requires_grad=True),\n",
              " Parameter containing:\n",
              " tensor([-0.1919,  0.1902], requires_grad=True)]"
            ]
          },
          "metadata": {},
          "execution_count": 349
        }
      ]
    },
    {
      "cell_type": "code",
      "metadata": {
        "id": "Asetsyo6qZl3",
        "colab": {
          "base_uri": "https://localhost:8080/"
        },
        "outputId": "4e50f458-c177-4051-835c-0d6d48c5d56e"
      },
      "source": [
        "# Generate predictions\n",
        "preds = model(inputs)\n",
        "preds"
      ],
      "execution_count": 350,
      "outputs": [
        {
          "output_type": "execute_result",
          "data": {
            "text/plain": [
              "tensor([[-37.6179,  17.8427],\n",
              "        [-50.8074,  26.3667],\n",
              "        [-73.2452,  17.4259],\n",
              "        [-23.1528,  20.7633],\n",
              "        [-56.8631,  26.1084],\n",
              "        [-37.0659,  18.0596],\n",
              "        [-50.4658,  26.9497],\n",
              "        [-73.3615,  17.9717],\n",
              "        [-23.7048,  20.5463],\n",
              "        [-57.0736,  26.4745],\n",
              "        [-37.2763,  18.4257],\n",
              "        [-50.2553,  26.5836],\n",
              "        [-73.5868,  16.8429],\n",
              "        [-22.9423,  20.3972],\n",
              "        [-57.4152,  25.8915]], grad_fn=<AddmmBackward>)"
            ]
          },
          "metadata": {},
          "execution_count": 350
        }
      ]
    },
    {
      "cell_type": "code",
      "metadata": {
        "id": "2ty9goMqqfZY"
      },
      "source": [
        "# Import nn.functional\n",
        "import torch.nn.functional as F   #package contains many useful loss functions and several other utilities.\n",
        "# Define loss function \n",
        "loss_fn = F.mse_loss"
      ],
      "execution_count": 351,
      "outputs": []
    },
    {
      "cell_type": "code",
      "metadata": {
        "id": "C7MDwliUq0T0",
        "colab": {
          "base_uri": "https://localhost:8080/"
        },
        "outputId": "1ebd84d9-b9e5-42f5-b330-0b27244ad642"
      },
      "source": [
        "loss = loss_fn(model(inputs), targets)\n",
        "print(loss)"
      ],
      "execution_count": 352,
      "outputs": [
        {
          "output_type": "stream",
          "name": "stdout",
          "text": [
            "tensor(12091.8906, grad_fn=<MseLossBackward>)\n"
          ]
        }
      ]
    },
    {
      "cell_type": "code",
      "metadata": {
        "id": "UgupTt-Tq3wm"
      },
      "source": [
        "# Define optimizer\n",
        "opt = torch.optim.SGD(model.parameters(), lr=1e-5)  \n",
        "#Instead of manually manipulating the model's weights & biases using gradients, we can use the optimizer optim.SGD"
      ],
      "execution_count": 353,
      "outputs": []
    },
    {
      "cell_type": "markdown",
      "metadata": {
        "id": "UTrmNedcrxbY"
      },
      "source": [
        "### Train the model\n",
        "\n",
        "1.   Generate predictions\n",
        "2.   Calculate the loss\n",
        "3.   Compute gradients w.r.t the weights and biases\n",
        "4.   Adjust the weights by subtracting a small quantity proportional to the gradient\n",
        "5.   Reset the gradients to zero\n",
        "\n",
        "The only change is that we'll work batches of data instead of processing the entire training data in every iteration.\n"
      ]
    },
    {
      "cell_type": "code",
      "metadata": {
        "id": "Gu6xqV6HsdqB"
      },
      "source": [
        "def fit(num_epochs, model, loss_fn, opt, train_dl):\n",
        "    \n",
        "    # Repeat for given number of epochs\n",
        "    for epoch in range(num_epochs):\n",
        "        \n",
        "        # Train with batches of data\n",
        "        for xb,yb in train_dl:\n",
        "            \n",
        "            # 1. Generate predictions\n",
        "            pred = model(xb)\n",
        "            \n",
        "            # 2. Calculate loss\n",
        "            loss = loss_fn(pred, yb)\n",
        "            \n",
        "            # 3. Compute gradients\n",
        "            loss.backward()\n",
        "            \n",
        "            # 4. Update parameters using gradients\n",
        "            opt.step()\n",
        "            \n",
        "            # 5. Reset the gradients to zero\n",
        "            opt.zero_grad()\n",
        "        \n",
        "        # Print the progress\n",
        "        if (epoch+1) % 10 == 0:\n",
        "            print('Epoch [{}/{}], Loss: {:.4f}'.format(epoch+1, num_epochs, loss.item()))"
      ],
      "execution_count": 354,
      "outputs": []
    },
    {
      "cell_type": "code",
      "metadata": {
        "id": "0yZuhrQOtG5v",
        "colab": {
          "base_uri": "https://localhost:8080/"
        },
        "outputId": "10fec58c-2a73-4d75-a1c9-4f5a01fd0415"
      },
      "source": [
        "fit(100, model, loss_fn, opt, train_dl)"
      ],
      "execution_count": 355,
      "outputs": [
        {
          "output_type": "stream",
          "name": "stdout",
          "text": [
            "Epoch [10/100], Loss: 198.3743\n",
            "Epoch [20/100], Loss: 440.5238\n",
            "Epoch [30/100], Loss: 230.8980\n",
            "Epoch [40/100], Loss: 299.0288\n",
            "Epoch [50/100], Loss: 124.1528\n",
            "Epoch [60/100], Loss: 68.9889\n",
            "Epoch [70/100], Loss: 85.1401\n",
            "Epoch [80/100], Loss: 17.6161\n",
            "Epoch [90/100], Loss: 32.5467\n",
            "Epoch [100/100], Loss: 30.2612\n"
          ]
        }
      ]
    },
    {
      "cell_type": "code",
      "metadata": {
        "id": "aRRNS9XitLa1",
        "colab": {
          "base_uri": "https://localhost:8080/"
        },
        "outputId": "de495562-a00a-40fa-fc70-2b250605891e"
      },
      "source": [
        "print(model(inputs))\n",
        "print(targets)"
      ],
      "execution_count": 356,
      "outputs": [
        {
          "output_type": "stream",
          "name": "stdout",
          "text": [
            "tensor([[ 58.4291,  71.4259],\n",
            "        [ 80.9520, 100.4513],\n",
            "        [117.2755, 130.6328],\n",
            "        [ 30.1780,  44.0403],\n",
            "        [ 94.5536, 114.7695],\n",
            "        [ 57.3993,  70.5152],\n",
            "        [ 80.5452, 100.4897],\n",
            "        [117.4922, 131.2475],\n",
            "        [ 31.2078,  44.9511],\n",
            "        [ 95.1765, 115.7186],\n",
            "        [ 58.0223,  71.4642],\n",
            "        [ 79.9222,  99.5406],\n",
            "        [117.6824, 130.5945],\n",
            "        [ 29.5550,  43.0913],\n",
            "        [ 95.5834, 115.6802]], grad_fn=<AddmmBackward>)\n",
            "tensor([[ 56.,  70.],\n",
            "        [ 81., 101.],\n",
            "        [119., 133.],\n",
            "        [ 22.,  37.],\n",
            "        [103., 119.],\n",
            "        [ 57.,  69.],\n",
            "        [ 80., 102.],\n",
            "        [118., 132.],\n",
            "        [ 21.,  38.],\n",
            "        [104., 118.],\n",
            "        [ 57.,  69.],\n",
            "        [ 82., 100.],\n",
            "        [118., 134.],\n",
            "        [ 20.,  38.],\n",
            "        [102., 120.]])\n"
          ]
        }
      ]
    },
    {
      "cell_type": "code",
      "metadata": {
        "id": "ak2r7FDvts97",
        "colab": {
          "base_uri": "https://localhost:8080/"
        },
        "outputId": "8329e528-8166-4285-f3f2-2a3e9b466a69"
      },
      "source": [
        "model(torch.tensor([[75, 63, 44.]]))  # predict for new sample"
      ],
      "execution_count": 357,
      "outputs": [
        {
          "output_type": "execute_result",
          "data": {
            "text/plain": [
              "tensor([[55.1358, 68.8992]], grad_fn=<AddmmBackward>)"
            ]
          },
          "metadata": {},
          "execution_count": 357
        }
      ]
    },
    {
      "cell_type": "markdown",
      "metadata": {
        "id": "lEoiRn6FHUpn"
      },
      "source": [
        "### Matplotlib\n"
      ]
    },
    {
      "cell_type": "code",
      "metadata": {
        "id": "gGAbhn_8ujmD"
      },
      "source": [
        "import numpy as np\n",
        "import matplotlib.pyplot as plt"
      ],
      "execution_count": 358,
      "outputs": []
    },
    {
      "cell_type": "code",
      "metadata": {
        "id": "YYs5mXmlImBf",
        "colab": {
          "base_uri": "https://localhost:8080/",
          "height": 301
        },
        "outputId": "54237f86-3437-4b10-a000-2a58b93c1253"
      },
      "source": [
        "# initializing the data\n",
        "x = [10, 20, 30, 40]\n",
        "y = [20, 30, 40, 50]\n",
        "\n",
        "# plotting the data\n",
        "plt.plot(x, y)\n",
        "plt.scatter(x,y)\n",
        "\n",
        "# Adding the title\n",
        "plt.title(\"Simple Plot\")\n",
        "\n",
        "# Adding the labels\n",
        "plt.ylabel(\"y-axis\")\n",
        "plt.xlabel(\"x-axis\")\n",
        "plt.show()"
      ],
      "execution_count": 359,
      "outputs": [
        {
          "output_type": "display_data",
          "data": {
            "image/png": "[encoded data removed]",
            "text/plain": [
              "<Figure size 432x288 with 1 Axes>"
            ]
          },
          "metadata": {}
        }
      ]
    },
    {
      "cell_type": "code",
      "metadata": {
        "id": "P1tmj2cyIsb9",
        "colab": {
          "base_uri": "https://localhost:8080/",
          "height": 272
        },
        "outputId": "426332f7-acbc-4867-c5a7-b1bd01f00d7f"
      },
      "source": [
        "# Python program to show pyplot module\n",
        "x = [1, 2, 3, 4]\n",
        "y = [1, 4, 9, 16]\n",
        "plt.plot(x, y) \n",
        "plt.axis([0, 6, 0, 20]) \n",
        "plt.show()"
      ],
      "execution_count": 360,
      "outputs": [
        {
          "output_type": "display_data",
          "data": {
            "image/png": "[encoded data removed]",
            "text/plain": [
              "<Figure size 432x288 with 1 Axes>"
            ]
          },
          "metadata": {}
        }
      ]
    },
    {
      "cell_type": "code",
      "metadata": {
        "id": "Um4XiBdUL6Bm",
        "colab": {
          "base_uri": "https://localhost:8080/",
          "height": 268
        },
        "outputId": "0efc1f3f-b4c3-4d95-a830-9b132c950f81"
      },
      "source": [
        "plt.subplot(1,2,1)\n",
        "plt.plot(x, y)\n",
        "#plt.show()\n",
        "\n",
        "plt.subplot(1,2,2)\n",
        "plt.scatter(x, y)\n",
        "plt.show()"
      ],
      "execution_count": 361,
      "outputs": [
        {
          "output_type": "display_data",
          "data": {
            "image/png": "[encoded data removed]",
            "text/plain": [
              "<Figure size 432x288 with 2 Axes>"
            ]
          },
          "metadata": {}
        }
      ]
    },
    {
      "cell_type": "code",
      "metadata": {
        "id": "ChpHMoTzOe2w",
        "colab": {
          "base_uri": "https://localhost:8080/",
          "height": 248
        },
        "outputId": "d0cb1f85-3361-453c-dc97-2f2c15b4923b"
      },
      "source": [
        "from mpl_toolkits.mplot3d import axes3d\n",
        "fig = plt.figure()\n",
        "ax = fig.add_subplot(projection = '3d')\n",
        "X,Y,Z = [1,2,3],[4,5,6],[2,2,2]\n",
        "ax.plot(X,Y,Z)\n",
        "ax.scatter(X,Y,Z,color='r')\n",
        "plt.show()"
      ],
      "execution_count": 362,
      "outputs": [
        {
          "output_type": "display_data",
          "data": {
            "image/png": "[encoded data removed]",
            "text/plain": [
              "<Figure size 432x288 with 1 Axes>"
            ]
          },
          "metadata": {}
        }
      ]
    },
    {
      "cell_type": "code",
      "metadata": {
        "id": "1ilIynEfOXaQ",
        "colab": {
          "base_uri": "https://localhost:8080/",
          "height": 206
        },
        "outputId": "b929e421-1638-4a1d-fe96-fbbc1296a2d3"
      },
      "source": [
        "import seaborn as sns\n",
        "iris = sns.load_dataset('iris')\n",
        "iris.head()"
      ],
      "execution_count": 363,
      "outputs": [
        {
          "output_type": "execute_result",
          "data": {
            "text/html": [
              "<div>\n",
              "<style scoped>\n",
              "    .dataframe tbody tr th:only-of-type {\n",
              "        vertical-align: middle;\n",
              "    }\n",
              "\n",
              "    .dataframe tbody tr th {\n",
              "        vertical-align: top;\n",
              "    }\n",
              "\n",
              "    .dataframe thead th {\n",
              "        text-align: right;\n",
              "    }\n",
              "</style>\n",
              "<table border=\"1\" class=\"dataframe\">\n",
              "  <thead>\n",
              "    <tr style=\"text-align: right;\">\n",
              "      <th></th>\n",
              "      <th>sepal_length</th>\n",
              "      <th>sepal_width</th>\n",
              "      <th>petal_length</th>\n",
              "      <th>petal_width</th>\n",
              "      <th>species</th>\n",
              "    </tr>\n",
              "  </thead>\n",
              "  <tbody>\n",
              "    <tr>\n",
              "      <th>0</th>\n",
              "      <td>5.1</td>\n",
              "      <td>3.5</td>\n",
              "      <td>1.4</td>\n",
              "      <td>0.2</td>\n",
              "      <td>setosa</td>\n",
              "    </tr>\n",
              "    <tr>\n",
              "      <th>1</th>\n",
              "      <td>4.9</td>\n",
              "      <td>3.0</td>\n",
              "      <td>1.4</td>\n",
              "      <td>0.2</td>\n",
              "      <td>setosa</td>\n",
              "    </tr>\n",
              "    <tr>\n",
              "      <th>2</th>\n",
              "      <td>4.7</td>\n",
              "      <td>3.2</td>\n",
              "      <td>1.3</td>\n",
              "      <td>0.2</td>\n",
              "      <td>setosa</td>\n",
              "    </tr>\n",
              "    <tr>\n",
              "      <th>3</th>\n",
              "      <td>4.6</td>\n",
              "      <td>3.1</td>\n",
              "      <td>1.5</td>\n",
              "      <td>0.2</td>\n",
              "      <td>setosa</td>\n",
              "    </tr>\n",
              "    <tr>\n",
              "      <th>4</th>\n",
              "      <td>5.0</td>\n",
              "      <td>3.6</td>\n",
              "      <td>1.4</td>\n",
              "      <td>0.2</td>\n",
              "      <td>setosa</td>\n",
              "    </tr>\n",
              "  </tbody>\n",
              "</table>\n",
              "</div>"
            ],
            "text/plain": [
              "   sepal_length  sepal_width  petal_length  petal_width species\n",
              "0           5.1          3.5           1.4          0.2  setosa\n",
              "1           4.9          3.0           1.4          0.2  setosa\n",
              "2           4.7          3.2           1.3          0.2  setosa\n",
              "3           4.6          3.1           1.5          0.2  setosa\n",
              "4           5.0          3.6           1.4          0.2  setosa"
            ]
          },
          "metadata": {},
          "execution_count": 363
        }
      ]
    },
    {
      "cell_type": "code",
      "metadata": {
        "id": "ezijFyy9WZMA",
        "colab": {
          "base_uri": "https://localhost:8080/"
        },
        "outputId": "a8a8a049-e705-4183-d3a5-3c9375e85d52"
      },
      "source": [
        "from sklearn.linear_model import LinearRegression\n",
        "x = np.array([6, 16, 26, 36, 46, 56]).reshape((-1, 1))\n",
        "y = np.array([4, 23, 10, 12, 22, 35])\n",
        "\n",
        "# Create an instance of a linear regression model and fit it to the data with the fit() function:\n",
        "model = LinearRegression().fit(x, y) \n",
        "\n",
        "# The following section will get results by interpreting the created instance: \n",
        "\n",
        "# Obtain the coefficient of determination by calling the model with the score() function, then print the coefficient:\n",
        "r_sq = model.score(x, y)\n",
        "print('coefficient of determination:', r_sq)\n",
        "\n",
        "# Print the Intercept:\n",
        "print('intercept:', model.intercept_)\n",
        "\n",
        "# Print the Slope:\n",
        "print('slope:', model.coef_) \n",
        "\n",
        "# Predict a Response and print it:\n",
        "y_pred = model.predict(x)\n",
        "print('Predicted response:', y_pred, sep='\\n')"
      ],
      "execution_count": 364,
      "outputs": [
        {
          "output_type": "stream",
          "name": "stdout",
          "text": [
            "coefficient of determination: 0.5417910447761195\n",
            "intercept: 4.026666666666664\n",
            "slope: [0.44]\n",
            "Predicted response:\n",
            "[ 6.66666667 11.06666667 15.46666667 19.86666667 24.26666667 28.66666667]\n"
          ]
        }
      ]
    }
  ]
}